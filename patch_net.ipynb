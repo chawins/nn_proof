{
 "cells": [
  {
   "cell_type": "code",
   "execution_count": 109,
   "metadata": {},
   "outputs": [
    {
     "name": "stdout",
     "output_type": "stream",
     "text": [
      "The autoreload extension is already loaded. To reload it, use:\n",
      "  %reload_ext autoreload\n"
     ]
    }
   ],
   "source": [
    "%matplotlib inline\n",
    "\n",
    "%load_ext autoreload\n",
    "%autoreload 2\n",
    "\n",
    "import matplotlib.pyplot as plt\n",
    "import matplotlib\n",
    "from skimage.transform import resize\n",
    "from imageio import imread, imwrite\n",
    "import pandas as pd\n",
    "import glob\n",
    "import pickle\n",
    "import gc\n",
    "import numpy as np\n",
    "import cv2\n",
    "\n",
    "from lib.utils import load_gtsrb\n",
    "from patch_model import *\n",
    "from stn.conv_model import conv_model_no_color_adjust\n",
    "\n",
    "from patch_model import *"
   ]
  },
  {
   "cell_type": "code",
   "execution_count": 3,
   "metadata": {},
   "outputs": [],
   "source": [
    "import os\n",
    "os.environ[\"CUDA_DEVICE_ORDER\"] = \"PCI_BUS_ID\"\n",
    "os.environ[\"CUDA_VISIBLE_DEVICES\"] = \"0\"\n",
    "\n",
    "from keras.backend.tensorflow_backend import set_session\n",
    "config = tf.ConfigProto()\n",
    "config.gpu_options.allow_growth = True\n",
    "sess = tf.Session(config=config)\n",
    "set_session(sess)"
   ]
  },
  {
   "cell_type": "code",
   "execution_count": 57,
   "metadata": {},
   "outputs": [],
   "source": [
    "batch_size = 32\n",
    "l2_reg = 1e-4"
   ]
  },
  {
   "cell_type": "code",
   "execution_count": 4,
   "metadata": {},
   "outputs": [],
   "source": [
    "signnames = pd.read_csv('/data/signnames.csv')\n",
    "X_train, y_train, X_val, y_val, X_test, y_test = load_gtsrb()"
   ]
  },
  {
   "cell_type": "code",
   "execution_count": 142,
   "metadata": {},
   "outputs": [],
   "source": [
    "model = conv_model_no_color_adjust()\n",
    "model.load_weights(\"./keras_weights/stn_v5.hdf5\")\n",
    "stn_weight = model.layers[1].get_weights()\n",
    "# Delete STN to reclaim unused GPU memory\n",
    "del model\n",
    "gc.collect()\n",
    "\n",
    "model, model_map = build_patch_model_resnet(patch_size=8,\n",
    "                                            use_stn=True,\n",
    "                                            stn_weight=stn_weight,\n",
    "                                            l2_reg=l2_reg,\n",
    "                                            patch_scheme='all',\n",
    "                                            num_patches_total=32,\n",
    "                                            use_batchnorm=True)"
   ]
  },
  {
   "cell_type": "code",
   "execution_count": 143,
   "metadata": {},
   "outputs": [],
   "source": [
    "# model.load_weights('./saved_models/train_patch_net_exp11.h5')\n",
    "model_map.load_weights('./saved_models/train_patch_net_exp11.h5')"
   ]
  },
  {
   "cell_type": "code",
   "execution_count": null,
   "metadata": {},
   "outputs": [],
   "source": [
    "# Load weight from model with random patch to model that takes all patches\n",
    "model_temp, _ = build_patch_model_resnet(patch_size=8,\n",
    "                                         use_stn=True,\n",
    "                                         stn_weight=stn_weight,\n",
    "                                         l2_reg=l2_reg,\n",
    "                                         patch_scheme='random',\n",
    "                                         num_patches_total=32,\n",
    "                                         use_batchnorm=False)\n",
    "\n",
    "model_temp.load_weights('./saved_models/train_patch_net_exp12.h5')\n",
    "\n",
    "source_layers = model_temp.layers_by_depth\n",
    "target_layers = model_map.layers_by_depth\n",
    "assert len(source_layers) == len(target_layers)\n",
    "layer_names = ['conv2d', 'dense']\n",
    "\n",
    "for i in source_layers:\n",
    "    layer = source_layers[i]\n",
    "    if len(layer) > 2:\n",
    "        continue\n",
    "    for j, l in enumerate(layer):\n",
    "        if (('conv2d' in l.get_config()['name']) or \n",
    "            ('dense' in l.get_config()['name'])):\n",
    "            weights = l.get_weights()\n",
    "            target_layers[i - 1][j].set_weights(weights)\n",
    "            \n",
    "del model_temp\n",
    "gc.collect()"
   ]
  },
  {
   "cell_type": "code",
   "execution_count": 144,
   "metadata": {},
   "outputs": [],
   "source": [
    "y = model_map.predict(X_test)"
   ]
  },
  {
   "cell_type": "code",
   "execution_count": 145,
   "metadata": {},
   "outputs": [
    {
     "data": {
      "text/plain": [
       "0.9665083135391924"
      ]
     },
     "execution_count": 145,
     "metadata": {},
     "output_type": "execute_result"
    }
   ],
   "source": [
    "np.mean(np.argmax(np.mean(y, 1), -1) == y_test)"
   ]
  },
  {
   "cell_type": "code",
   "execution_count": 153,
   "metadata": {},
   "outputs": [
    {
     "name": "stdout",
     "output_type": "stream",
     "text": [
      "1\n"
     ]
    },
    {
     "data": {
      "image/png": "[encoded data removed]",
      "text/plain": [
       "<Figure size 432x288 with 1 Axes>"
      ]
     },
     "metadata": {
      "needs_background": "light"
     },
     "output_type": "display_data"
    },
    {
     "data": {
      "image/png": "[encoded data removed]",
      "text/plain": [
       "<Figure size 432x288 with 1 Axes>"
      ]
     },
     "metadata": {
      "needs_background": "light"
     },
     "output_type": "display_data"
    }
   ],
   "source": [
    "i = 110\n",
    "print(np.argmax(np.mean(y, 1), -1)[i])\n",
    "plt.imshow(X_test[i])\n",
    "plt.show()\n",
    "\n",
    "heatmap = y[i, :, y_test[i]]\n",
    "heatmap = heatmap.reshape(32, 32)\n",
    "abs_max = np.percentile(np.abs(heatmap), 99)\n",
    "abs_min = - abs_max\n",
    "plt.imshow(heatmap, cmap='RdBu_r', vmin=abs_min, vmax=abs_max)\n",
    "gray = cv2.cvtColor(X_test[i], cv2.COLOR_RGB2GRAY)\n",
    "plt.imshow(gray, cmap='gray', alpha=0.3)\n",
    "plt.show()"
   ]
  },
  {
   "cell_type": "code",
   "execution_count": 157,
   "metadata": {},
   "outputs": [
    {
     "data": {
      "image/png": "[encoded data removed]",
      "text/plain": [
       "<Figure size 432x288 with 1 Axes>"
      ]
     },
     "metadata": {
      "needs_background": "light"
     },
     "output_type": "display_data"
    },
    {
     "data": {
      "image/png": "[encoded data removed]",
      "text/plain": [
       "<Figure size 432x288 with 1 Axes>"
      ]
     },
     "metadata": {
      "needs_background": "light"
     },
     "output_type": "display_data"
    }
   ],
   "source": [
    "i = 110\n",
    "plt.imshow(X_test[i])\n",
    "plt.show()\n",
    "\n",
    "heatmap = y[i, :, 0]\n",
    "heatmap = heatmap.reshape(32, 32)\n",
    "abs_max = np.percentile(np.abs(heatmap), 99)\n",
    "abs_min = - abs_max\n",
    "plt.imshow(heatmap, cmap='RdBu_r', vmin=abs_min, vmax=abs_max)\n",
    "gray = cv2.cvtColor(X_test[i], cv2.COLOR_RGB2GRAY)\n",
    "plt.imshow(gray, cmap='gray', alpha=0.3)\n",
    "plt.show()"
   ]
  },
  {
   "cell_type": "code",
   "execution_count": 156,
   "metadata": {},
   "outputs": [
    {
     "data": {
      "text/plain": [
       "array([0, 'Speed limit (20km/h)'], dtype=object)"
      ]
     },
     "execution_count": 156,
     "metadata": {},
     "output_type": "execute_result"
    }
   ],
   "source": [
    "np.array(signnames)[0]"
   ]
  },
  {
   "cell_type": "code",
   "execution_count": null,
   "metadata": {},
   "outputs": [],
   "source": []
  }
 ],
 "metadata": {
  "kernelspec": {
   "display_name": "Python 3",
   "language": "python",
   "name": "python3"
  },
  "language_info": {
   "codemirror_mode": {
    "name": "ipython",
    "version": 3
   },
   "file_extension": ".py",
   "mimetype": "text/x-python",
   "name": "python",
   "nbconvert_exporter": "python",
   "pygments_lexer": "ipython3",
   "version": "3.5.2"
  }
 },
 "nbformat": 4,
 "nbformat_minor": 2
}
