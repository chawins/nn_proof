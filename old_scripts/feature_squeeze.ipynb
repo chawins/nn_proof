{
 "cells": [
  {
   "cell_type": "code",
   "execution_count": 2,
   "metadata": {},
   "outputs": [],
   "source": [
    "%matplotlib inline\n",
    "\n",
    "%load_ext autoreload\n",
    "%autoreload 2\n",
    "\n",
    "from matplotlib.gridspec import GridSpec\n",
    "import matplotlib.pyplot as plt\n",
    "import matplotlib\n",
    "from skimage.transform import resize\n",
    "from imageio import imread, imwrite\n",
    "import pandas as pd\n",
    "import glob\n",
    "import pickle\n",
    "import keras.backend as K\n",
    "\n",
    "from stn.conv_model import conv_model\n",
    "from stn.conv_model import conv_model_no_color_adjust\n",
    "from sklearn.utils import resample\n",
    "from lib.utils import load_gtsrb\n",
    "from keras.metrics import sparse_categorical_accuracy\n",
    "\n",
    "from cleverhans.utils import set_log_level\n",
    "from cleverhans.utils_keras import KerasModelWrapper\n",
    "from cleverhans.utils_tf import model_eval\n",
    "import logging\n",
    "\n",
    "from parameters import *\n",
    "from small_net import *"
   ]
  },
  {
   "cell_type": "code",
   "execution_count": 3,
   "metadata": {},
   "outputs": [],
   "source": [
    "import os\n",
    "os.environ[\"CUDA_DEVICE_ORDER\"] = \"PCI_BUS_ID\"\n",
    "os.environ[\"CUDA_VISIBLE_DEVICES\"] = \"1\"\n",
    "\n",
    "config = tf.ConfigProto()\n",
    "config.gpu_options.allow_growth = True\n",
    "sess = tf.Session(config=config)\n",
    "from keras.backend.tensorflow_backend import set_session\n",
    "set_session(sess)"
   ]
  },
  {
   "cell_type": "code",
   "execution_count": 4,
   "metadata": {},
   "outputs": [],
   "source": [
    "signnames = pd.read_csv(DATA_DIR + 'signnames.csv')\n",
    "X_train, y_train, X_val, y_val, X_test, y_test = load_gtsrb()"
   ]
  },
  {
   "cell_type": "code",
   "execution_count": 5,
   "metadata": {},
   "outputs": [],
   "source": [
    "model = conv_model_no_color_adjust()\n",
    "# model = conv_model()\n",
    "model.load_weights(\"./keras_weights/stn_v5.hdf5\")\n",
    "\n",
    "get_stn_output = K.function([model.layers[0].input, K.learning_phase()],\n",
    "                            [model.layers[1].output])\n",
    "get_stn_output_v2 = K.function([model.layers[0].input], [model.layers[1].output])\n",
    "stn_weight = model.layers[1].get_weights()"
   ]
  },
  {
   "cell_type": "code",
   "execution_count": 6,
   "metadata": {},
   "outputs": [],
   "source": [
    "def get_patch(X, pos):\n",
    "    \"\"\"\n",
    "    Crop all samples in <X> to make a set of patches <X_cropped>\n",
    "    at the same position <pos>\n",
    "    \"\"\"\n",
    "    \n",
    "    top, bot, left, right = pos\n",
    "    X_cropped = np.zeros((X.shape[0], bot - top, right - left, X.shape[3]))\n",
    "    for i, x in enumerate(X):\n",
    "        X_cropped[i] = np.copy(x[top:bot, left:right, :])\n",
    "    return X_cropped\n",
    "\n",
    "# Define cropping positions\n",
    "pos_2 = (7, 23, 5, 17)\n",
    "pos_0 = (7, 24, 15, 27) # Good for class 0 - 5\n",
    "pos_3 = (7, 24, 6, 17)\n",
    "\n",
    "pos_S = (7, 24, 0, 11)\n",
    "pos_T = (7, 23, 8, 17)\n",
    "pos_O = (6, 23, 13, 24)\n",
    "pos_P = (6, 23, 22, 32)\n",
    "\n",
    "pos_y11 = (11, 27, 9, 21)"
   ]
  },
  {
   "cell_type": "code",
   "execution_count": 7,
   "metadata": {},
   "outputs": [],
   "source": [
    "X_train_bal, y_train_bal = gen_balance_data(X_train, y_train, [14], r=1)\n",
    "y_train_bal = y_train_bal[:, np.newaxis]\n",
    "X_val_bal, y_val_bal = gen_balance_data(X_val, y_val, [14], r=1)\n",
    "y_val_bal = y_val_bal[:, np.newaxis]\n",
    "X_test_bal, y_test_bal = gen_balance_data(X_test, y_test, [14], r=1)\n",
    "y_test_bal = y_test_bal[:, np.newaxis]\n",
    "\n",
    "y_test_stn = np.zeros([len(y_test), 1])\n",
    "y_test_stn[np.where(y_test == 14)] = 1"
   ]
  },
  {
   "cell_type": "code",
   "execution_count": 13,
   "metadata": {},
   "outputs": [],
   "source": [
    "n_attack = 250\n",
    "ind_1 = np.where(y_test == 1)[0]\n",
    "X_atk = X_test[ind_1][:n_attack]\n",
    "\n",
    "y_target = np.zeros((n_attack, )) + 14\n",
    "y_target = to_categorical(y_target, 43)"
   ]
  },
  {
   "cell_type": "markdown",
   "metadata": {},
   "source": [
    "---"
   ]
  },
  {
   "cell_type": "code",
   "execution_count": 7,
   "metadata": {},
   "outputs": [],
   "source": [
    "from feat_net import FeatNet\n",
    "\n",
    "featnet = FeatNet(\"featnet_v7\", [32, 32, 3], [1], \n",
    "                  [pos_S, pos_T, pos_O, pos_P], \n",
    "                  learning_rate=5e-4, \n",
    "                  save_path=\"model/featnet_v7.h5\",\n",
    "                  load_model=True,\n",
    "                  stn_weight=stn_weight)\n",
    "\n",
    "# data = (X_train_bal, y_train_bal, X_val_bal, y_val_bal)\n",
    "# featnet.train_model(sess, data, n_epoch=10, batch_size=128)"
   ]
  },
  {
   "cell_type": "code",
   "execution_count": 8,
   "metadata": {},
   "outputs": [
    {
     "data": {
      "text/plain": [
       "(0.9911003236245954, -1.9728884115284702)"
      ]
     },
     "execution_count": 8,
     "metadata": {},
     "output_type": "execute_result"
    }
   ],
   "source": [
    "featnet.eval_model(sess, (X_test_bal, y_test_bal))"
   ]
  },
  {
   "cell_type": "code",
   "execution_count": 15,
   "metadata": {
    "scrolled": true
   },
   "outputs": [
    {
     "name": "stderr",
     "output_type": "stream",
     "text": [
      "[INFO 2018-10-30 05:35:42,293 cleverhans] Constructing new graph for attack CustomCarliniWagnerL2\n",
      "[DEBUG 2018-10-30 05:35:43,900 cleverhans] Running CWL2 attack on instance 0 of 250\n",
      "[DEBUG 2018-10-30 05:35:44,038 cleverhans]   Binary search step 0 of 3\n",
      "[DEBUG 2018-10-30 05:35:46,414 cleverhans]     Iteration 0 of 200: loss=342 l2=0 loss1=5.89e-10\n",
      "[DEBUG 2018-10-30 05:35:47,791 cleverhans]     Iteration 20 of 200: loss=90.7 l2=5.26 loss1=2.32\n",
      "[DEBUG 2018-10-30 05:35:49,100 cleverhans]     Iteration 40 of 200: loss=42.3 l2=9.4 loss1=3.36\n",
      "[DEBUG 2018-10-30 05:35:50,361 cleverhans]     Iteration 60 of 200: loss=25.2 l2=10.1 loss1=3.65\n",
      "[DEBUG 2018-10-30 05:35:51,676 cleverhans]     Iteration 80 of 200: loss=17.4 l2=9.54 loss1=3.8\n",
      "[DEBUG 2018-10-30 05:35:53,061 cleverhans]     Iteration 100 of 200: loss=13.8 l2=8.57 loss1=3.85\n",
      "[DEBUG 2018-10-30 05:35:54,468 cleverhans]     Iteration 120 of 200: loss=11.3 l2=7.68 loss1=3.84\n",
      "[DEBUG 2018-10-30 05:35:55,892 cleverhans]     Iteration 140 of 200: loss=9.53 l2=7.02 loss1=3.83\n",
      "[DEBUG 2018-10-30 05:35:57,296 cleverhans]     Iteration 160 of 200: loss=8.31 l2=6.53 loss1=3.82\n",
      "[DEBUG 2018-10-30 05:35:58,663 cleverhans]     Iteration 180 of 200: loss=7.37 l2=6.19 loss1=3.8\n",
      "[DEBUG 2018-10-30 05:35:59,950 cleverhans]   Successfully generated adversarial examples on 243 of 250 instances.\n",
      "[DEBUG 2018-10-30 05:35:59,950 cleverhans]    Mean successful distortion: 2.009\n",
      "[DEBUG 2018-10-30 05:35:59,951 cleverhans]   Binary search step 1 of 3\n",
      "[DEBUG 2018-10-30 05:36:00,014 cleverhans]     Iteration 0 of 200: loss=314 l2=0 loss1=5.89e-10\n",
      "[DEBUG 2018-10-30 05:36:01,414 cleverhans]     Iteration 20 of 200: loss=141 l2=4.97 loss1=2.32\n",
      "[DEBUG 2018-10-30 05:36:02,727 cleverhans]     Iteration 40 of 200: loss=85.4 l2=8.19 loss1=3.36\n",
      "[DEBUG 2018-10-30 05:36:04,002 cleverhans]     Iteration 60 of 200: loss=59.9 l2=8.26 loss1=3.64\n",
      "[DEBUG 2018-10-30 05:36:05,344 cleverhans]     Iteration 80 of 200: loss=42.2 l2=7.55 loss1=3.75\n",
      "[DEBUG 2018-10-30 05:36:06,711 cleverhans]     Iteration 100 of 200: loss=30.5 l2=6.79 loss1=3.76\n",
      "[DEBUG 2018-10-30 05:36:08,049 cleverhans]     Iteration 120 of 200: loss=23 l2=6.27 loss1=3.7\n",
      "[DEBUG 2018-10-30 05:36:09,421 cleverhans]     Iteration 140 of 200: loss=18.4 l2=6.08 loss1=3.65\n",
      "[DEBUG 2018-10-30 05:36:10,780 cleverhans]     Iteration 160 of 200: loss=15.8 l2=5.96 loss1=3.61\n",
      "[DEBUG 2018-10-30 05:36:12,104 cleverhans]     Iteration 180 of 200: loss=13.2 l2=5.96 loss1=3.66\n",
      "[DEBUG 2018-10-30 05:36:13,343 cleverhans]   Successfully generated adversarial examples on 246 of 250 instances.\n",
      "[DEBUG 2018-10-30 05:36:13,344 cleverhans]    Mean successful distortion: 1.912\n",
      "[DEBUG 2018-10-30 05:36:13,345 cleverhans]   Binary search step 2 of 3\n",
      "[DEBUG 2018-10-30 05:36:13,408 cleverhans]     Iteration 0 of 200: loss=989 l2=0 loss1=5.89e-10\n",
      "[DEBUG 2018-10-30 05:36:14,795 cleverhans]     Iteration 20 of 200: loss=624 l2=4.51 loss1=2.32\n",
      "[DEBUG 2018-10-30 05:36:16,086 cleverhans]     Iteration 40 of 200: loss=399 l2=6.7 loss1=3.34\n",
      "[DEBUG 2018-10-30 05:36:17,437 cleverhans]     Iteration 60 of 200: loss=295 l2=6.29 loss1=3.54\n",
      "[DEBUG 2018-10-30 05:36:18,775 cleverhans]     Iteration 80 of 200: loss=217 l2=5.8 loss1=3.53\n",
      "[DEBUG 2018-10-30 05:36:20,124 cleverhans]     Iteration 100 of 200: loss=152 l2=5.51 loss1=3.47\n",
      "[DEBUG 2018-10-30 05:36:21,462 cleverhans]     Iteration 120 of 200: loss=103 l2=5.4 loss1=3.42\n",
      "[DEBUG 2018-10-30 05:36:22,788 cleverhans]     Iteration 140 of 200: loss=82.1 l2=5.4 loss1=3.49\n",
      "[DEBUG 2018-10-30 05:36:24,094 cleverhans]     Iteration 160 of 200: loss=71.2 l2=5.4 loss1=3.48\n",
      "[DEBUG 2018-10-30 05:36:25,411 cleverhans]     Iteration 180 of 200: loss=64.4 l2=5.48 loss1=3.51\n",
      "[DEBUG 2018-10-30 05:36:26,649 cleverhans]   Successfully generated adversarial examples on 246 of 250 instances.\n",
      "[DEBUG 2018-10-30 05:36:26,650 cleverhans]    Mean successful distortion: 1.807\n"
     ]
    }
   ],
   "source": [
    "keras.backend.set_learning_phase(0)\n",
    "set_log_level(logging.DEBUG)\n",
    "\n",
    "# CarliniWagner attack\n",
    "from lib.custom_cw import CustomCarliniWagnerL2\n",
    "\n",
    "attack_iterations = 200\n",
    "cw_params = {'binary_search_steps': 3,\n",
    "             'max_iterations': attack_iterations,\n",
    "             'learning_rate': 0.01,\n",
    "             'batch_size': n_attack,\n",
    "             'initial_const': 1,\n",
    "             'y_target': y_target}\n",
    "wrap_clf = KerasModelWrapper(model)\n",
    "cw = CustomCarliniWagnerL2(wrap_clf, featnet, thres=4*.75, sess=sess)\n",
    "adv = cw.generate_np(X_atk, **cw_params)"
   ]
  },
  {
   "cell_type": "code",
   "execution_count": null,
   "metadata": {},
   "outputs": [],
   "source": []
  },
  {
   "cell_type": "code",
   "execution_count": 27,
   "metadata": {},
   "outputs": [],
   "source": [
    "from feat_net import FeatNet\n",
    "\n",
    "featnet = FeatNet(\"featnet_v7\", [32, 32, 3], [1], \n",
    "                  [pos_S, pos_T, pos_O, pos_P], \n",
    "                  learning_rate=5e-4, \n",
    "                  squeeze=5,\n",
    "                  save_path=\"model/featnet_v7.h5\",\n",
    "                  load_model=True,\n",
    "                  stn_weight=stn_weight)"
   ]
  },
  {
   "cell_type": "code",
   "execution_count": 28,
   "metadata": {},
   "outputs": [
    {
     "data": {
      "text/plain": [
       "(0.989967637540453, -1.9631902137524102)"
      ]
     },
     "execution_count": 28,
     "metadata": {},
     "output_type": "execute_result"
    }
   ],
   "source": [
    "featnet.eval_model(sess, (X_test_bal, y_test_bal))"
   ]
  },
  {
   "cell_type": "code",
   "execution_count": 29,
   "metadata": {},
   "outputs": [
    {
     "name": "stdout",
     "output_type": "stream",
     "text": [
      "240\n"
     ]
    }
   ],
   "source": [
    "y_adv = featnet.predict_model(sess, adv)\n",
    "print(np.sum(y_adv >= 3))"
   ]
  },
  {
   "cell_type": "code",
   "execution_count": 21,
   "metadata": {},
   "outputs": [],
   "source": [
    "from feat_net import FeatNet\n",
    "\n",
    "featnet = FeatNet(\"featnet_v7\", [32, 32, 3], [1], \n",
    "                  [pos_S, pos_T, pos_O, pos_P], \n",
    "                  learning_rate=5e-4, \n",
    "                  squeeze=4,\n",
    "                  save_path=\"model/featnet_v7.h5\",\n",
    "                  load_model=True,\n",
    "                  stn_weight=stn_weight)"
   ]
  },
  {
   "cell_type": "code",
   "execution_count": 22,
   "metadata": {},
   "outputs": [
    {
     "data": {
      "text/plain": [
       "(0.9824433656957928, -1.9451070731415332)"
      ]
     },
     "execution_count": 22,
     "metadata": {},
     "output_type": "execute_result"
    }
   ],
   "source": [
    "featnet.eval_model(sess, (X_test_bal, y_test_bal))"
   ]
  },
  {
   "cell_type": "code",
   "execution_count": 23,
   "metadata": {},
   "outputs": [
    {
     "name": "stdout",
     "output_type": "stream",
     "text": [
      "231\n"
     ]
    }
   ],
   "source": [
    "y_adv = featnet.predict_model(sess, adv)\n",
    "print(np.sum(y_adv >= 3))"
   ]
  },
  {
   "cell_type": "code",
   "execution_count": 24,
   "metadata": {},
   "outputs": [],
   "source": [
    "from feat_net import FeatNet\n",
    "\n",
    "featnet = FeatNet(\"featnet_v7\", [32, 32, 3], [1], \n",
    "                  [pos_S, pos_T, pos_O, pos_P], \n",
    "                  learning_rate=5e-4, \n",
    "                  squeeze=3,\n",
    "                  save_path=\"model/featnet_v7.h5\",\n",
    "                  load_model=True,\n",
    "                  stn_weight=stn_weight)"
   ]
  },
  {
   "cell_type": "code",
   "execution_count": 25,
   "metadata": {},
   "outputs": [
    {
     "data": {
      "text/plain": [
       "(0.9114886731391586, -1.758974016407161)"
      ]
     },
     "execution_count": 25,
     "metadata": {},
     "output_type": "execute_result"
    }
   ],
   "source": [
    "featnet.eval_model(sess, (X_test_bal, y_test_bal))"
   ]
  },
  {
   "cell_type": "code",
   "execution_count": 26,
   "metadata": {},
   "outputs": [
    {
     "name": "stdout",
     "output_type": "stream",
     "text": [
      "197\n"
     ]
    }
   ],
   "source": [
    "y_adv = featnet.predict_model(sess, adv)\n",
    "print(np.sum(y_adv >= 3))"
   ]
  },
  {
   "cell_type": "code",
   "execution_count": null,
   "metadata": {},
   "outputs": [],
   "source": []
  },
  {
   "cell_type": "markdown",
   "metadata": {},
   "source": [
    "- Load squeeze trained net into non-squeeze\n",
    "- Attack\n",
    "- Put adv back to squeeze net"
   ]
  },
  {
   "cell_type": "code",
   "execution_count": 17,
   "metadata": {
    "scrolled": true
   },
   "outputs": [
    {
     "name": "stdout",
     "output_type": "stream",
     "text": [
      "============= EPOCH: 0 =============\n",
      "STEP: 0 \tLoss: -0.2536\n",
      "STEP: 50 \tLoss: -1.1737\n",
      "STEP: 100 \tLoss: -2.1777\n",
      "STEP: 150 \tLoss: -2.1266\n",
      "STEP: 200 \tLoss: -1.9233\n",
      "STEP: 250 \tLoss: -1.7993\n",
      "STEP: 300 \tLoss: -1.8706\n",
      "STEP: 350 \tLoss: -1.9724\n",
      "STEP: 400 \tLoss: -1.6781\n",
      "STEP: 450 \tLoss: -2.1602\n",
      "STEP: 500 \tLoss: -1.8337\n",
      "Train Acc|Loss:\t0.9989|-1.9636\n",
      "Val Acc|Loss:\t0.9387|-1.8176\n",
      "============= EPOCH: 1 =============\n",
      "STEP: 0 \tLoss: -1.8225\n",
      "STEP: 50 \tLoss: -2.1838\n",
      "STEP: 100 \tLoss: -2.3752\n",
      "STEP: 150 \tLoss: -2.0441\n",
      "STEP: 200 \tLoss: -2.1847\n",
      "STEP: 250 \tLoss: -1.5982\n",
      "STEP: 300 \tLoss: -1.8074\n",
      "STEP: 350 \tLoss: -2.4378\n",
      "STEP: 400 \tLoss: -2.0090\n",
      "STEP: 450 \tLoss: -2.0743\n",
      "STEP: 500 \tLoss: -1.9297\n",
      "Train Acc|Loss:\t0.9990|-1.9818\n",
      "Val Acc|Loss:\t0.9388|-1.8218\n",
      "============= EPOCH: 2 =============\n",
      "STEP: 0 \tLoss: -2.0174\n",
      "STEP: 50 \tLoss: -2.1091\n",
      "STEP: 100 \tLoss: -2.0869\n",
      "STEP: 150 \tLoss: -2.0139\n",
      "STEP: 200 \tLoss: -1.9030\n",
      "STEP: 250 \tLoss: -1.8266\n",
      "STEP: 300 \tLoss: -2.1546\n",
      "STEP: 350 \tLoss: -2.1644\n",
      "STEP: 400 \tLoss: -2.0620\n",
      "STEP: 450 \tLoss: -1.8697\n",
      "STEP: 500 \tLoss: -2.1486\n",
      "Train Acc|Loss:\t0.9990|-1.9884\n",
      "Val Acc|Loss:\t0.9463|-1.8266\n",
      "============= EPOCH: 3 =============\n",
      "STEP: 0 \tLoss: -2.0582\n",
      "STEP: 50 \tLoss: -2.1586\n",
      "STEP: 100 \tLoss: -2.0920\n",
      "STEP: 150 \tLoss: -1.9252\n",
      "STEP: 200 \tLoss: -2.0416\n",
      "STEP: 250 \tLoss: -2.1018\n",
      "STEP: 300 \tLoss: -2.1864\n",
      "STEP: 350 \tLoss: -1.9600\n",
      "STEP: 400 \tLoss: -2.0603\n",
      "STEP: 450 \tLoss: -2.0926\n",
      "STEP: 500 \tLoss: -2.1913\n",
      "Train Acc|Loss:\t0.9992|-1.9895\n",
      "Val Acc|Loss:\t0.9122|-1.8001\n",
      "============= EPOCH: 4 =============\n",
      "STEP: 0 \tLoss: -1.9915\n",
      "STEP: 50 \tLoss: -2.1554\n",
      "STEP: 100 \tLoss: -2.0849\n",
      "STEP: 150 \tLoss: -1.8733\n",
      "STEP: 200 \tLoss: -1.8982\n",
      "STEP: 250 \tLoss: -1.9358\n",
      "STEP: 300 \tLoss: -2.0598\n",
      "STEP: 350 \tLoss: -1.8404\n",
      "STEP: 400 \tLoss: -1.9049\n",
      "STEP: 450 \tLoss: -2.0249\n",
      "STEP: 500 \tLoss: -2.0850\n",
      "Train Acc|Loss:\t0.9992|-1.9930\n",
      "Val Acc|Loss:\t0.9463|-1.8264\n",
      "============= EPOCH: 5 =============\n",
      "STEP: 0 \tLoss: -2.1221\n",
      "STEP: 50 \tLoss: -2.1155\n",
      "STEP: 100 \tLoss: -2.2148\n",
      "STEP: 150 \tLoss: -2.0621\n",
      "STEP: 200 \tLoss: -1.8425\n",
      "STEP: 250 \tLoss: -1.6869\n",
      "STEP: 300 \tLoss: -2.3573\n",
      "STEP: 350 \tLoss: -1.9296\n",
      "STEP: 400 \tLoss: -2.1709\n",
      "STEP: 450 \tLoss: -2.0602\n",
      "STEP: 500 \tLoss: -2.2723\n",
      "Train Acc|Loss:\t0.9992|-1.9941\n",
      "Val Acc|Loss:\t0.9162|-1.8042\n",
      "============= EPOCH: 6 =============\n",
      "STEP: 0 \tLoss: -2.2496\n",
      "STEP: 50 \tLoss: -1.9681\n",
      "STEP: 100 \tLoss: -2.0534\n",
      "STEP: 150 \tLoss: -2.1235\n",
      "STEP: 200 \tLoss: -2.1550\n",
      "STEP: 250 \tLoss: -2.0834\n",
      "STEP: 300 \tLoss: -2.0597\n",
      "STEP: 350 \tLoss: -2.1137\n",
      "STEP: 400 \tLoss: -1.8075\n",
      "STEP: 450 \tLoss: -1.8107\n",
      "STEP: 500 \tLoss: -1.9060\n",
      "Train Acc|Loss:\t1.0000|-1.9960\n",
      "Val Acc|Loss:\t0.9405|-1.8091\n",
      "============= EPOCH: 7 =============\n",
      "STEP: 0 \tLoss: -2.2182\n",
      "STEP: 50 \tLoss: -1.9373\n",
      "STEP: 100 \tLoss: -1.9670\n",
      "STEP: 150 \tLoss: -2.0924\n",
      "STEP: 200 \tLoss: -2.1866\n",
      "STEP: 250 \tLoss: -1.9290\n",
      "STEP: 300 \tLoss: -1.9286\n",
      "STEP: 350 \tLoss: -2.1215\n",
      "STEP: 400 \tLoss: -1.9587\n",
      "STEP: 450 \tLoss: -2.3122\n",
      "STEP: 500 \tLoss: -1.8117\n",
      "Train Acc|Loss:\t1.0000|-1.9966\n",
      "Val Acc|Loss:\t0.9519|-1.8474\n",
      "============= EPOCH: 8 =============\n",
      "STEP: 0 \tLoss: -2.0936\n",
      "STEP: 50 \tLoss: -2.1708\n",
      "STEP: 100 \tLoss: -1.9298\n",
      "STEP: 150 \tLoss: -2.0234\n",
      "STEP: 200 \tLoss: -1.9564\n",
      "STEP: 250 \tLoss: -2.0783\n",
      "STEP: 300 \tLoss: -2.3436\n",
      "STEP: 350 \tLoss: -1.6240\n",
      "STEP: 400 \tLoss: -1.6864\n",
      "STEP: 450 \tLoss: -2.2186\n",
      "STEP: 500 \tLoss: -1.8124\n",
      "Train Acc|Loss:\t1.0000|-1.9978\n",
      "Val Acc|Loss:\t0.9227|-1.7870\n",
      "============= EPOCH: 9 =============\n",
      "STEP: 0 \tLoss: -2.2497\n",
      "STEP: 50 \tLoss: -1.9059\n",
      "STEP: 100 \tLoss: -1.8979\n",
      "STEP: 150 \tLoss: -2.1249\n",
      "STEP: 200 \tLoss: -2.0619\n",
      "STEP: 250 \tLoss: -1.9931\n",
      "STEP: 300 \tLoss: -2.0230\n",
      "STEP: 350 \tLoss: -1.9686\n",
      "STEP: 400 \tLoss: -2.1485\n",
      "STEP: 450 \tLoss: -1.8745\n",
      "STEP: 500 \tLoss: -1.5623\n",
      "Train Acc|Loss:\t1.0000|-1.9973\n",
      "Val Acc|Loss:\t0.9360|-1.8093\n"
     ]
    }
   ],
   "source": [
    "from feat_net import FeatNet\n",
    "\n",
    "# Train squeeze net\n",
    "\n",
    "featnet = FeatNet(\"featnet_sq3\", [32, 32, 3], [1], \n",
    "                  [pos_S, pos_T, pos_O, pos_P], \n",
    "                  squeeze=3,\n",
    "                  learning_rate=1e-4, \n",
    "                  save_path=\"model/featnet_sq3.h5\",\n",
    "                  load_model=False,\n",
    "                  stn_weight=stn_weight)\n",
    "data = (X_train_bal, y_train_bal, X_val_bal, y_val_bal)\n",
    "featnet.train_model(sess, data, n_epoch=10, batch_size=128)"
   ]
  },
  {
   "cell_type": "code",
   "execution_count": 18,
   "metadata": {},
   "outputs": [
    {
     "data": {
      "text/plain": [
       "(0.9515372168284789, -1.8816935792710017)"
      ]
     },
     "execution_count": 18,
     "metadata": {},
     "output_type": "execute_result"
    }
   ],
   "source": [
    "featnet.eval_model(sess, (X_test_bal, y_test_bal))"
   ]
  },
  {
   "cell_type": "code",
   "execution_count": 19,
   "metadata": {},
   "outputs": [],
   "source": [
    "# Load squeeze trained net into non-squeeze\n",
    "\n",
    "featnet = FeatNet(\"featnet_sq3\", [32, 32, 3], [1], \n",
    "                  [pos_S, pos_T, pos_O, pos_P], \n",
    "                  squeeze=None,\n",
    "                  learning_rate=5e-4, \n",
    "                  save_path=\"model/featnet_sq3.h5\",\n",
    "                  load_model=True,\n",
    "                  stn_weight=stn_weight)"
   ]
  },
  {
   "cell_type": "code",
   "execution_count": 20,
   "metadata": {},
   "outputs": [
    {
     "data": {
      "text/plain": [
       "(0.9234223300970874, -1.7260171291897597)"
      ]
     },
     "execution_count": 20,
     "metadata": {},
     "output_type": "execute_result"
    }
   ],
   "source": [
    "featnet.eval_model(sess, (X_test_bal, y_test_bal))"
   ]
  },
  {
   "cell_type": "code",
   "execution_count": 21,
   "metadata": {
    "scrolled": true
   },
   "outputs": [
    {
     "name": "stderr",
     "output_type": "stream",
     "text": [
      "[INFO 2018-10-30 06:48:54,506 cleverhans] Constructing new graph for attack CustomCarliniWagnerL2\n",
      "[DEBUG 2018-10-30 06:48:56,364 cleverhans] Running CWL2 attack on instance 0 of 250\n",
      "[DEBUG 2018-10-30 06:48:56,578 cleverhans]   Binary search step 0 of 3\n",
      "[DEBUG 2018-10-30 06:48:58,562 cleverhans]     Iteration 0 of 200: loss=187 l2=0 loss1=2.75e-07\n",
      "[DEBUG 2018-10-30 06:48:59,976 cleverhans]     Iteration 20 of 200: loss=52.5 l2=5.48 loss1=2.12\n",
      "[DEBUG 2018-10-30 06:49:01,288 cleverhans]     Iteration 40 of 200: loss=24 l2=9.57 loss1=3.37\n",
      "[DEBUG 2018-10-30 06:49:02,572 cleverhans]     Iteration 60 of 200: loss=16.1 l2=9.37 loss1=3.73\n",
      "[DEBUG 2018-10-30 06:49:03,992 cleverhans]     Iteration 80 of 200: loss=12 l2=8.03 loss1=3.73\n",
      "[DEBUG 2018-10-30 06:49:05,441 cleverhans]     Iteration 100 of 200: loss=9.39 l2=6.99 loss1=3.56\n",
      "[DEBUG 2018-10-30 06:49:06,856 cleverhans]     Iteration 120 of 200: loss=7.86 l2=6.35 loss1=3.44\n",
      "[DEBUG 2018-10-30 06:49:08,211 cleverhans]     Iteration 140 of 200: loss=6.9 l2=6.01 loss1=3.33\n",
      "[DEBUG 2018-10-30 06:49:09,554 cleverhans]     Iteration 160 of 200: loss=6.37 l2=5.78 loss1=3.31\n",
      "[DEBUG 2018-10-30 06:49:10,865 cleverhans]     Iteration 180 of 200: loss=6.06 l2=5.62 loss1=3.26\n",
      "[DEBUG 2018-10-30 06:49:12,114 cleverhans]   Successfully generated adversarial examples on 242 of 250 instances.\n",
      "[DEBUG 2018-10-30 06:49:12,115 cleverhans]    Mean successful distortion: 2.065\n",
      "[DEBUG 2018-10-30 06:49:12,117 cleverhans]   Binary search step 1 of 3\n",
      "[DEBUG 2018-10-30 06:49:12,180 cleverhans]     Iteration 0 of 200: loss=178 l2=0 loss1=2.75e-07\n",
      "[DEBUG 2018-10-30 06:49:13,604 cleverhans]     Iteration 20 of 200: loss=81.3 l2=5.06 loss1=2.11\n",
      "[DEBUG 2018-10-30 06:49:14,922 cleverhans]     Iteration 40 of 200: loss=47.1 l2=8.01 loss1=3.35\n",
      "[DEBUG 2018-10-30 06:49:16,256 cleverhans]     Iteration 60 of 200: loss=30.4 l2=7.28 loss1=3.59\n",
      "[DEBUG 2018-10-30 06:49:17,641 cleverhans]     Iteration 80 of 200: loss=20.7 l2=6.35 loss1=3.27\n",
      "[DEBUG 2018-10-30 06:49:19,000 cleverhans]     Iteration 100 of 200: loss=17 l2=6.06 loss1=3.08\n",
      "[DEBUG 2018-10-30 06:49:20,366 cleverhans]     Iteration 120 of 200: loss=14.2 l2=5.93 loss1=3\n",
      "[DEBUG 2018-10-30 06:49:21,772 cleverhans]     Iteration 140 of 200: loss=11.3 l2=5.92 loss1=3.04\n",
      "[DEBUG 2018-10-30 06:49:23,339 cleverhans]     Iteration 160 of 200: loss=8.37 l2=5.95 loss1=3.08\n",
      "[DEBUG 2018-10-30 06:49:24,692 cleverhans]     Iteration 180 of 200: loss=6.86 l2=5.91 loss1=3.12\n",
      "[DEBUG 2018-10-30 06:49:25,989 cleverhans]   Successfully generated adversarial examples on 249 of 250 instances.\n",
      "[DEBUG 2018-10-30 06:49:25,990 cleverhans]    Mean successful distortion: 2.13\n",
      "[DEBUG 2018-10-30 06:49:25,992 cleverhans]   Binary search step 2 of 3\n",
      "[DEBUG 2018-10-30 06:49:26,055 cleverhans]     Iteration 0 of 200: loss=204 l2=0 loss1=2.75e-07\n",
      "[DEBUG 2018-10-30 06:49:27,473 cleverhans]     Iteration 20 of 200: loss=105 l2=4.43 loss1=2.1\n",
      "[DEBUG 2018-10-30 06:49:28,827 cleverhans]     Iteration 40 of 200: loss=65.8 l2=6.22 loss1=3.21\n",
      "[DEBUG 2018-10-30 06:49:30,209 cleverhans]     Iteration 60 of 200: loss=48.7 l2=5.62 loss1=3.03\n",
      "[DEBUG 2018-10-30 06:49:31,572 cleverhans]     Iteration 80 of 200: loss=33.9 l2=5.36 loss1=2.75\n",
      "[DEBUG 2018-10-30 06:49:32,965 cleverhans]     Iteration 100 of 200: loss=25.9 l2=5.36 loss1=2.69\n",
      "[DEBUG 2018-10-30 06:49:34,342 cleverhans]     Iteration 120 of 200: loss=23.1 l2=5.38 loss1=2.74\n",
      "[DEBUG 2018-10-30 06:49:35,770 cleverhans]     Iteration 140 of 200: loss=20.3 l2=5.42 loss1=2.79\n",
      "[DEBUG 2018-10-30 06:49:37,151 cleverhans]     Iteration 160 of 200: loss=17.5 l2=5.45 loss1=2.83\n",
      "[DEBUG 2018-10-30 06:49:38,561 cleverhans]     Iteration 180 of 200: loss=12.8 l2=5.43 loss1=2.84\n",
      "[DEBUG 2018-10-30 06:49:39,895 cleverhans]   Successfully generated adversarial examples on 250 of 250 instances.\n",
      "[DEBUG 2018-10-30 06:49:39,896 cleverhans]    Mean successful distortion: 2.098\n"
     ]
    }
   ],
   "source": [
    "keras.backend.set_learning_phase(0)\n",
    "set_log_level(logging.DEBUG)\n",
    "\n",
    "# CarliniWagner attack\n",
    "from lib.custom_cw import CustomCarliniWagnerL2\n",
    "\n",
    "attack_iterations = 200\n",
    "cw_params = {'binary_search_steps': 3,\n",
    "             'max_iterations': attack_iterations,\n",
    "             'learning_rate': 0.01,\n",
    "             'batch_size': n_attack,\n",
    "             'initial_const': 1,\n",
    "             'y_target': y_target}\n",
    "wrap_clf = KerasModelWrapper(model)\n",
    "cw = CustomCarliniWagnerL2(wrap_clf, featnet, thres=4*.75, sess=sess)\n",
    "adv = cw.generate_np(X_atk, **cw_params)"
   ]
  },
  {
   "cell_type": "code",
   "execution_count": 22,
   "metadata": {},
   "outputs": [],
   "source": [
    "featnet = FeatNet(\"featnet_sq3\", [32, 32, 3], [1], \n",
    "                  [pos_S, pos_T, pos_O, pos_P], \n",
    "                  squeeze=3,\n",
    "                  learning_rate=5e-4, \n",
    "                  save_path=\"model/featnet_sq3.h5\",\n",
    "                  load_model=True,\n",
    "                  stn_weight=stn_weight)"
   ]
  },
  {
   "cell_type": "code",
   "execution_count": 23,
   "metadata": {},
   "outputs": [
    {
     "name": "stdout",
     "output_type": "stream",
     "text": [
      "153\n"
     ]
    }
   ],
   "source": [
    "y_adv = featnet.predict_model(sess, adv)\n",
    "print(np.sum(y_adv >= 3))"
   ]
  },
  {
   "cell_type": "code",
   "execution_count": null,
   "metadata": {},
   "outputs": [],
   "source": []
  }
 ],
 "metadata": {
  "kernelspec": {
   "display_name": "Python 3",
   "language": "python",
   "name": "python3"
  },
  "language_info": {
   "codemirror_mode": {
    "name": "ipython",
    "version": 3
   },
   "file_extension": ".py",
   "mimetype": "text/x-python",
   "name": "python",
   "nbconvert_exporter": "python",
   "pygments_lexer": "ipython3",
   "version": "3.5.2"
  }
 },
 "nbformat": 4,
 "nbformat_minor": 2
}
