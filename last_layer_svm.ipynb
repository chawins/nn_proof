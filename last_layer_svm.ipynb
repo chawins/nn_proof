{
 "cells": [
  {
   "cell_type": "code",
   "execution_count": 1,
   "metadata": {},
   "outputs": [
    {
     "name": "stderr",
     "output_type": "stream",
     "text": [
      "Using TensorFlow backend.\n"
     ]
    }
   ],
   "source": [
    "%matplotlib inline\n",
    "\n",
    "%load_ext autoreload\n",
    "%autoreload 2\n",
    "\n",
    "from matplotlib.gridspec import GridSpec\n",
    "import matplotlib.pyplot as plt\n",
    "import matplotlib\n",
    "from skimage.transform import resize\n",
    "from imageio import imread, imwrite\n",
    "import pandas as pd\n",
    "import glob\n",
    "import pickle\n",
    "import keras.backend as K\n",
    "\n",
    "from stn.conv_model import conv_model\n",
    "from stn.conv_model import conv_model_no_color_adjust\n",
    "from sklearn.utils import resample\n",
    "from lib.utils import load_gtsrb\n",
    "from keras.metrics import sparse_categorical_accuracy\n",
    "\n",
    "from parameters import *\n",
    "from small_net import *"
   ]
  },
  {
   "cell_type": "code",
   "execution_count": 2,
   "metadata": {},
   "outputs": [],
   "source": [
    "import os\n",
    "os.environ[\"CUDA_DEVICE_ORDER\"] = \"PCI_BUS_ID\"\n",
    "os.environ[\"CUDA_VISIBLE_DEVICES\"] = \"0\"\n",
    "\n",
    "config = tf.ConfigProto()\n",
    "config.gpu_options.allow_growth = True\n",
    "sess = tf.Session(config=config)\n",
    "from keras.backend.tensorflow_backend import set_session\n",
    "set_session(sess)"
   ]
  },
  {
   "cell_type": "code",
   "execution_count": 9,
   "metadata": {},
   "outputs": [],
   "source": [
    "from keras.datasets import mnist\n",
    "(X_train, y_train), (X_test, y_test) = mnist.load_data()\n",
    "X_train = X_train.astype('float32')\n",
    "X_test = X_test.astype('float32')\n",
    "X_train /= 255\n",
    "X_test /= 255\n",
    "n_train = len(X_train)\n",
    "n_val = int(n_train*0.1)\n",
    "ind = np.arange(n_train)\n",
    "np.random.shuffle(ind)\n",
    "# X_val, y_val = X_train[ind[:n_val]], y_train[ind[:n_val]]\n",
    "# X_train, y_train = X_train[ind[n_val:]], y_train[ind[n_val:]]\n",
    "X_val, y_val = X_test, y_test\n",
    "\n",
    "data = (X_train[:, :, :, np.newaxis], y_train, \n",
    "        X_val[:, :, :, np.newaxis], y_val)"
   ]
  },
  {
   "cell_type": "code",
   "execution_count": 10,
   "metadata": {},
   "outputs": [],
   "source": [
    "from cleverhans.utils import set_log_level\n",
    "import logging\n",
    "\n",
    "y_train = to_categorical(y_train)\n",
    "y_test = to_categorical(y_test)\n",
    "y_val = to_categorical(y_val)"
   ]
  },
  {
   "cell_type": "code",
   "execution_count": 6,
   "metadata": {
    "scrolled": true
   },
   "outputs": [],
   "source": [
    "from hinge_net import HingeNet\n",
    "\n",
    "hingenet = HingeNet(\"softmax_xent\", [28, 28, 1], [10], learning_rate=1e-3, \n",
    "                    load_model=True, save_path=\"model/softmax_xent.h5\")\n",
    "# hingenet.train_model(sess, data, n_epoch=15, batch_size=128)"
   ]
  },
  {
   "cell_type": "code",
   "execution_count": 11,
   "metadata": {},
   "outputs": [
    {
     "data": {
      "text/plain": [
       "(0.993, 0.02630199917015052)"
      ]
     },
     "execution_count": 11,
     "metadata": {},
     "output_type": "execute_result"
    }
   ],
   "source": [
    "hingenet.eval_model(sess, (X_test[:, :, :, np.newaxis], np.argmax(y_test, axis=1)))"
   ]
  },
  {
   "cell_type": "code",
   "execution_count": 17,
   "metadata": {},
   "outputs": [],
   "source": [
    "fnc = K.function([hingenet.model.get_input_at(0)], [hingenet.model.layers[-2].output])"
   ]
  },
  {
   "cell_type": "code",
   "execution_count": 26,
   "metadata": {},
   "outputs": [],
   "source": [
    "n = int(np.ceil(len(X_train) / 1000))\n",
    "X_train_last = np.zeros([len(X_train), 128])\n",
    "for i in range(n):\n",
    "    start = i*1000\n",
    "    end = (i + 1)*1000\n",
    "    X_train_last[start:end] = fnc([X_train[start:end, :, :, np.newaxis], 0])[0]"
   ]
  },
  {
   "cell_type": "code",
   "execution_count": 27,
   "metadata": {},
   "outputs": [],
   "source": [
    "n = int(np.ceil(len(X_test) / 1000))\n",
    "X_test_last = np.zeros([len(X_test), 128])\n",
    "for i in range(n):\n",
    "    start = i*1000\n",
    "    end = (i + 1)*1000\n",
    "    X_test_last[start:end] = fnc([X_test[start:end, :, :, np.newaxis], 0])[0]"
   ]
  },
  {
   "cell_type": "code",
   "execution_count": 27,
   "metadata": {},
   "outputs": [],
   "source": [
    "n = int(np.ceil(len(X_test) / 1000))\n",
    "X_test_last = np.zeros([len(X_test), 128])\n",
    "for i in range(n):\n",
    "    start = i*100\n",
    "    end = (i + 1)*100\n",
    "    X_test_last[start:end] = fnc([X_test[start:end, :, :, np.newaxis]])[0]"
   ]
  },
  {
   "cell_type": "code",
   "execution_count": 66,
   "metadata": {},
   "outputs": [
    {
     "name": "stdout",
     "output_type": "stream",
     "text": [
      "0.9812\n"
     ]
    },
    {
     "data": {
      "text/plain": [
       "(0.9812, 2.3017707790374757)"
      ]
     },
     "execution_count": 66,
     "metadata": {},
     "output_type": "execute_result"
    }
   ],
   "source": [
    "from sklearn.svm import LinearSVC\n",
    "\n",
    "svm = LinearSVC(penalty='l2', loss='squared_hinge', C=1e-10)\n",
    "# svm = LinearSVC(penalty='l2', loss='hinge', C=1e-10)\n",
    "svm.fit(X_train_last, np.argmax(y_train, axis=1))\n",
    "print(svm.score(X_test_last, np.argmax(y_test, axis=1)))\n",
    "\n",
    "w = np.swapaxes(svm.coef_, 0, 1)\n",
    "hingenet.model.layers[-1].set_weights([w, svm.intercept_])\n",
    "hingenet.eval_model(sess, (X_test[:, :, :, np.newaxis], np.argmax(y_test, axis=1)))"
   ]
  },
  {
   "cell_type": "code",
   "execution_count": 67,
   "metadata": {},
   "outputs": [],
   "source": [
    "# Least likeley class\n",
    "n_attack = 1000\n",
    "X_atk = X_test[:, :, :, np.newaxis][:n_attack]\n",
    "y_atk = np.argmax(y_test[:n_attack], axis=1)\n",
    "\n",
    "y_pred = hingenet.predict_model(sess, X_atk)\n",
    "y_target = to_categorical(np.argmin(y_pred, axis=1))"
   ]
  },
  {
   "cell_type": "code",
   "execution_count": 68,
   "metadata": {
    "scrolled": true
   },
   "outputs": [
    {
     "name": "stderr",
     "output_type": "stream",
     "text": [
      "/home/research/nn_proof/lib/my_pgd.py:698: UserWarning: Supplied extra keyword arguments that are not used in the graph computation. They have been ignored.\n",
      "  warnings.warn(\"Supplied extra keyword arguments that are not \"\n",
      "[INFO 2018-10-24 23:36:07,511 cleverhans] Constructing new graph for attack ProjectedGradientDescent\n"
     ]
    },
    {
     "name": "stdout",
     "output_type": "stream",
     "text": [
      "(0.727, 2.3022409267425537)\n",
      "5.011963\n",
      "(0.714, 2.3022437171936034)\n",
      "5.01009\n",
      "(0.709, 2.3022453060150148)\n",
      "5.009878\n",
      "(0.723, 2.3022397212982177)\n",
      "5.019263\n",
      "(0.724, 2.3022397651672364)\n",
      "5.0121536\n",
      "(0.715, 2.3022405643463135)\n",
      "5.010965\n",
      "(0.728, 2.302243320465088)\n",
      "5.011129\n",
      "(0.71, 2.30224001121521)\n",
      "5.0152864\n",
      "(0.714, 2.3022363338470457)\n",
      "5.0121894\n",
      "(0.738, 2.3022414054870604)\n",
      "5.013011\n",
      "0.812\n",
      "4.907336935621177\n"
     ]
    }
   ],
   "source": [
    "keras.backend.set_learning_phase(0)\n",
    "set_log_level(logging.DEBUG)\n",
    "\n",
    "from lib.my_pgd import ProjectedGradientDescent\n",
    "\n",
    "pgd_params = {'eps': 0.3,\n",
    "              'eps_iter': 0.05,\n",
    "              'clip_min': 0.,\n",
    "              'clip_max': 1.,\n",
    "              'ord': np.inf, \n",
    "              'nb_iter': 10,\n",
    "              'rand_init': True,\n",
    "              'batch_size': 100,\n",
    "              'y_target': y_target}\n",
    "pgd = ProjectedGradientDescent(hingenet, sess=sess)\n",
    "\n",
    "y_tar = np.argmax(y_target, axis=1)\n",
    "best_adv = np.zeros_like(X_atk)\n",
    "best_dist = np.zeros([n_attack]) + 1e5\n",
    "for i in range(10):\n",
    "    adv = pgd.generate_np(X_atk, **pgd_params)\n",
    "    print(hingenet.eval_model(sess, (adv, y_tar)))\n",
    "    dist = np.sqrt(np.sum((adv - X_atk)**2, (1, 2, 3)))\n",
    "    print(np.mean(dist))\n",
    "    pred = hingenet.predict_model(sess, adv)\n",
    "    y_pred = np.argmax(pred, axis=1)\n",
    "    for j in range(n_attack):\n",
    "        if y_pred[j] == y_tar[j] and dist[j] < best_dist[j]:\n",
    "            best_adv[j] = adv[j]\n",
    "            best_dist[j] = dist[j]\n",
    "print(np.mean(best_dist < 1e5))\n",
    "print(np.mean(best_dist[best_dist < 1e5]))"
   ]
  },
  {
   "cell_type": "code",
   "execution_count": 73,
   "metadata": {
    "scrolled": true
   },
   "outputs": [
    {
     "name": "stderr",
     "output_type": "stream",
     "text": [
      "[INFO 2018-10-25 00:36:45,816 cleverhans] Constructing new graph for attack CarliniWagnerL2\n",
      "[DEBUG 2018-10-25 00:36:46,122 cleverhans] Running CWL2 attack on instance 0 of 1000\n",
      "[DEBUG 2018-10-25 00:36:46,234 cleverhans]   Binary search step 0 of 10\n",
      "[DEBUG 2018-10-25 00:36:46,410 cleverhans]     Iteration 0 of 1000: loss=1.16 l2=0\n",
      "[DEBUG 2018-10-25 00:36:50,030 cleverhans]     Iteration 100 of 1000: loss=1.13 l2=0.0373\n",
      "[DEBUG 2018-10-25 00:36:53,654 cleverhans]     Iteration 200 of 1000: loss=1.13 l2=0.0373\n",
      "[DEBUG 2018-10-25 00:36:53,655 cleverhans]     Failed to make progress; stop early\n",
      "[DEBUG 2018-10-25 00:36:53,666 cleverhans]   Successfully generated adversarial examples on 0 of 1000 instances.\n",
      "/usr/local/lib/python3.5/dist-packages/numpy/core/fromnumeric.py:2920: RuntimeWarning: Mean of empty slice.\n",
      "  out=out, **kwargs)\n",
      "/usr/local/lib/python3.5/dist-packages/numpy/core/_methods.py:85: RuntimeWarning: invalid value encountered in double_scalars\n",
      "  ret = ret.dtype.type(ret / rcount)\n",
      "[DEBUG 2018-10-25 00:36:53,667 cleverhans]    Mean successful distortion: nan\n",
      "[DEBUG 2018-10-25 00:36:53,668 cleverhans]   Binary search step 1 of 10\n",
      "[DEBUG 2018-10-25 00:36:53,685 cleverhans]     Iteration 0 of 1000: loss=11.6 l2=0\n",
      "[DEBUG 2018-10-25 00:36:57,378 cleverhans]     Iteration 100 of 1000: loss=7.29 l2=3.64\n",
      "[DEBUG 2018-10-25 00:37:01,035 cleverhans]     Iteration 200 of 1000: loss=7.2 l2=3.68\n",
      "[DEBUG 2018-10-25 00:37:04,764 cleverhans]     Iteration 300 of 1000: loss=6.74 l2=3.75\n",
      "[DEBUG 2018-10-25 00:37:08,414 cleverhans]     Iteration 400 of 1000: loss=6.27 l2=3.78\n",
      "[DEBUG 2018-10-25 00:37:12,038 cleverhans]     Iteration 500 of 1000: loss=5.92 l2=3.79\n",
      "[DEBUG 2018-10-25 00:37:15,686 cleverhans]     Iteration 600 of 1000: loss=5.69 l2=3.79\n",
      "[DEBUG 2018-10-25 00:37:19,260 cleverhans]     Iteration 700 of 1000: loss=5.51 l2=3.8\n",
      "[DEBUG 2018-10-25 00:37:22,831 cleverhans]     Iteration 800 of 1000: loss=5.38 l2=3.79\n",
      "[DEBUG 2018-10-25 00:37:26,388 cleverhans]     Iteration 900 of 1000: loss=5.28 l2=3.77\n",
      "[DEBUG 2018-10-25 00:37:29,922 cleverhans]   Successfully generated adversarial examples on 253 of 1000 instances.\n",
      "[DEBUG 2018-10-25 00:37:29,923 cleverhans]    Mean successful distortion: 1.879\n",
      "[DEBUG 2018-10-25 00:37:29,924 cleverhans]   Binary search step 2 of 10\n",
      "[DEBUG 2018-10-25 00:37:29,941 cleverhans]     Iteration 0 of 1000: loss=90.8 l2=0\n",
      "[DEBUG 2018-10-25 00:37:33,644 cleverhans]     Iteration 100 of 1000: loss=12.7 l2=10.2\n",
      "[DEBUG 2018-10-25 00:37:37,008 cleverhans]     Iteration 200 of 1000: loss=9.75 l2=8.66\n",
      "[DEBUG 2018-10-25 00:37:40,172 cleverhans]     Iteration 300 of 1000: loss=8.36 l2=7.42\n",
      "[DEBUG 2018-10-25 00:37:43,159 cleverhans]     Iteration 400 of 1000: loss=7.59 l2=6.76\n",
      "[DEBUG 2018-10-25 00:37:46,042 cleverhans]     Iteration 500 of 1000: loss=7.17 l2=6.44\n",
      "[DEBUG 2018-10-25 00:37:48,885 cleverhans]     Iteration 600 of 1000: loss=6.82 l2=6.18\n",
      "[DEBUG 2018-10-25 00:37:51,689 cleverhans]     Iteration 700 of 1000: loss=6.67 l2=6.08\n",
      "[DEBUG 2018-10-25 00:37:54,463 cleverhans]     Iteration 800 of 1000: loss=6.5 l2=5.96\n",
      "[DEBUG 2018-10-25 00:37:57,234 cleverhans]     Iteration 900 of 1000: loss=6.4 l2=5.9\n",
      "[DEBUG 2018-10-25 00:37:59,982 cleverhans]   Successfully generated adversarial examples on 992 of 1000 instances.\n",
      "[DEBUG 2018-10-25 00:37:59,984 cleverhans]    Mean successful distortion: 2.36\n",
      "[DEBUG 2018-10-25 00:37:59,985 cleverhans]   Binary search step 3 of 10\n",
      "[DEBUG 2018-10-25 00:38:00,002 cleverhans]     Iteration 0 of 1000: loss=60.9 l2=0\n",
      "[DEBUG 2018-10-25 00:38:03,289 cleverhans]     Iteration 100 of 1000: loss=11.7 l2=8.89\n",
      "[DEBUG 2018-10-25 00:38:06,364 cleverhans]     Iteration 200 of 1000: loss=9.58 l2=8.18\n",
      "[DEBUG 2018-10-25 00:38:09,350 cleverhans]     Iteration 300 of 1000: loss=8.22 l2=7.2\n",
      "[DEBUG 2018-10-25 00:38:12,268 cleverhans]     Iteration 400 of 1000: loss=7.41 l2=6.62\n",
      "[DEBUG 2018-10-25 00:38:15,173 cleverhans]     Iteration 500 of 1000: loss=6.94 l2=6.31\n",
      "[DEBUG 2018-10-25 00:38:18,055 cleverhans]     Iteration 600 of 1000: loss=6.64 l2=6.11\n",
      "[DEBUG 2018-10-25 00:38:20,915 cleverhans]     Iteration 700 of 1000: loss=6.44 l2=5.97\n",
      "[DEBUG 2018-10-25 00:38:23,772 cleverhans]     Iteration 800 of 1000: loss=6.28 l2=5.88\n",
      "[DEBUG 2018-10-25 00:38:26,634 cleverhans]     Iteration 900 of 1000: loss=6.17 l2=5.78\n",
      "[DEBUG 2018-10-25 00:38:29,520 cleverhans]   Successfully generated adversarial examples on 1000 of 1000 instances.\n",
      "[DEBUG 2018-10-25 00:38:29,521 cleverhans]    Mean successful distortion: 2.34\n",
      "[DEBUG 2018-10-25 00:38:29,522 cleverhans]   Binary search step 4 of 10\n",
      "[DEBUG 2018-10-25 00:38:29,539 cleverhans]     Iteration 0 of 1000: loss=39.1 l2=0\n",
      "[DEBUG 2018-10-25 00:38:32,816 cleverhans]     Iteration 100 of 1000: loss=10.7 l2=7.64\n",
      "[DEBUG 2018-10-25 00:38:36,041 cleverhans]     Iteration 200 of 1000: loss=9.32 l2=7.29\n",
      "[DEBUG 2018-10-25 00:38:39,175 cleverhans]     Iteration 300 of 1000: loss=8.08 l2=6.62\n",
      "[DEBUG 2018-10-25 00:38:42,339 cleverhans]     Iteration 400 of 1000: loss=7.3 l2=6.21\n",
      "[DEBUG 2018-10-25 00:38:45,447 cleverhans]     Iteration 500 of 1000: loss=6.82 l2=5.97\n",
      "[DEBUG 2018-10-25 00:38:48,515 cleverhans]     Iteration 600 of 1000: loss=6.49 l2=5.82\n",
      "[DEBUG 2018-10-25 00:38:51,561 cleverhans]     Iteration 700 of 1000: loss=6.29 l2=5.72\n",
      "[DEBUG 2018-10-25 00:38:54,673 cleverhans]     Iteration 800 of 1000: loss=6.13 l2=5.64\n",
      "[DEBUG 2018-10-25 00:38:57,757 cleverhans]     Iteration 900 of 1000: loss=6.01 l2=5.57\n",
      "[DEBUG 2018-10-25 00:39:00,838 cleverhans]   Successfully generated adversarial examples on 1000 of 1000 instances.\n",
      "[DEBUG 2018-10-25 00:39:00,840 cleverhans]    Mean successful distortion: 2.323\n",
      "[DEBUG 2018-10-25 00:39:00,841 cleverhans]   Binary search step 5 of 10\n",
      "[DEBUG 2018-10-25 00:39:00,858 cleverhans]     Iteration 0 of 1000: loss=30.7 l2=0\n",
      "[DEBUG 2018-10-25 00:39:04,211 cleverhans]     Iteration 100 of 1000: loss=10.1 l2=6.75\n",
      "[DEBUG 2018-10-25 00:39:07,539 cleverhans]     Iteration 200 of 1000: loss=9.15 l2=6.59\n",
      "[DEBUG 2018-10-25 00:39:10,840 cleverhans]     Iteration 300 of 1000: loss=8.03 l2=6.18\n",
      "[DEBUG 2018-10-25 00:39:14,126 cleverhans]     Iteration 400 of 1000: loss=7.27 l2=5.9\n",
      "[DEBUG 2018-10-25 00:39:17,361 cleverhans]     Iteration 500 of 1000: loss=6.79 l2=5.7\n",
      "[DEBUG 2018-10-25 00:39:20,591 cleverhans]     Iteration 600 of 1000: loss=6.47 l2=5.6\n",
      "[DEBUG 2018-10-25 00:39:23,815 cleverhans]     Iteration 700 of 1000: loss=6.25 l2=5.52\n",
      "[DEBUG 2018-10-25 00:39:27,115 cleverhans]     Iteration 800 of 1000: loss=6.07 l2=5.46\n",
      "[DEBUG 2018-10-25 00:39:30,383 cleverhans]     Iteration 900 of 1000: loss=5.94 l2=5.43\n",
      "[DEBUG 2018-10-25 00:39:33,640 cleverhans]   Successfully generated adversarial examples on 1000 of 1000 instances.\n",
      "[DEBUG 2018-10-25 00:39:33,641 cleverhans]    Mean successful distortion: 2.314\n",
      "[DEBUG 2018-10-25 00:39:33,643 cleverhans]   Binary search step 6 of 10\n",
      "[DEBUG 2018-10-25 00:39:33,661 cleverhans]     Iteration 0 of 1000: loss=28 l2=0\n",
      "[DEBUG 2018-10-25 00:39:37,107 cleverhans]     Iteration 100 of 1000: loss=9.93 l2=6.36\n",
      "[DEBUG 2018-10-25 00:39:40,438 cleverhans]     Iteration 200 of 1000: loss=9.09 l2=6.22\n",
      "[DEBUG 2018-10-25 00:39:43,858 cleverhans]     Iteration 300 of 1000: loss=8.02 l2=5.92\n",
      "[DEBUG 2018-10-25 00:39:47,230 cleverhans]     Iteration 400 of 1000: loss=7.29 l2=5.71\n",
      "[DEBUG 2018-10-25 00:39:50,568 cleverhans]     Iteration 500 of 1000: loss=6.81 l2=5.6\n",
      "[DEBUG 2018-10-25 00:39:53,914 cleverhans]     Iteration 600 of 1000: loss=6.5 l2=5.55\n",
      "[DEBUG 2018-10-25 00:39:57,234 cleverhans]     Iteration 700 of 1000: loss=6.27 l2=5.5\n",
      "[DEBUG 2018-10-25 00:40:00,555 cleverhans]     Iteration 800 of 1000: loss=6.08 l2=5.47\n",
      "[DEBUG 2018-10-25 00:40:03,906 cleverhans]     Iteration 900 of 1000: loss=5.95 l2=5.43\n",
      "[DEBUG 2018-10-25 00:40:07,222 cleverhans]   Successfully generated adversarial examples on 1000 of 1000 instances.\n",
      "[DEBUG 2018-10-25 00:40:07,223 cleverhans]    Mean successful distortion: 2.31\n",
      "[DEBUG 2018-10-25 00:40:07,225 cleverhans]   Binary search step 7 of 10\n",
      "[DEBUG 2018-10-25 00:40:07,242 cleverhans]     Iteration 0 of 1000: loss=26.9 l2=0\n",
      "[DEBUG 2018-10-25 00:40:10,621 cleverhans]     Iteration 100 of 1000: loss=9.82 l2=6.19\n",
      "[DEBUG 2018-10-25 00:40:13,979 cleverhans]     Iteration 200 of 1000: loss=9.03 l2=6.06\n"
     ]
    },
    {
     "name": "stderr",
     "output_type": "stream",
     "text": [
      "[DEBUG 2018-10-25 00:40:17,356 cleverhans]     Iteration 300 of 1000: loss=8.01 l2=5.79\n",
      "[DEBUG 2018-10-25 00:40:20,749 cleverhans]     Iteration 400 of 1000: loss=7.3 l2=5.6\n",
      "[DEBUG 2018-10-25 00:40:24,101 cleverhans]     Iteration 500 of 1000: loss=6.83 l2=5.5\n",
      "[DEBUG 2018-10-25 00:40:27,511 cleverhans]     Iteration 600 of 1000: loss=6.5 l2=5.48\n",
      "[DEBUG 2018-10-25 00:40:30,892 cleverhans]     Iteration 700 of 1000: loss=6.27 l2=5.44\n",
      "[DEBUG 2018-10-25 00:40:34,303 cleverhans]     Iteration 800 of 1000: loss=6.1 l2=5.44\n",
      "[DEBUG 2018-10-25 00:40:37,698 cleverhans]     Iteration 900 of 1000: loss=5.96 l2=5.43\n",
      "[DEBUG 2018-10-25 00:40:41,070 cleverhans]   Successfully generated adversarial examples on 1000 of 1000 instances.\n",
      "[DEBUG 2018-10-25 00:40:41,071 cleverhans]    Mean successful distortion: 2.307\n",
      "[DEBUG 2018-10-25 00:40:41,073 cleverhans]   Binary search step 8 of 10\n",
      "[DEBUG 2018-10-25 00:40:41,091 cleverhans]     Iteration 0 of 1000: loss=26.8 l2=0\n",
      "[DEBUG 2018-10-25 00:40:44,538 cleverhans]     Iteration 100 of 1000: loss=9.8 l2=6.17\n",
      "[DEBUG 2018-10-25 00:40:47,950 cleverhans]     Iteration 200 of 1000: loss=9.01 l2=6.05\n",
      "[DEBUG 2018-10-25 00:40:51,332 cleverhans]     Iteration 300 of 1000: loss=7.99 l2=5.75\n",
      "[DEBUG 2018-10-25 00:40:54,676 cleverhans]     Iteration 400 of 1000: loss=7.29 l2=5.58\n",
      "[DEBUG 2018-10-25 00:40:58,080 cleverhans]     Iteration 500 of 1000: loss=6.83 l2=5.48\n",
      "[DEBUG 2018-10-25 00:41:01,528 cleverhans]     Iteration 600 of 1000: loss=6.51 l2=5.45\n",
      "[DEBUG 2018-10-25 00:41:04,923 cleverhans]     Iteration 700 of 1000: loss=6.28 l2=5.45\n",
      "[DEBUG 2018-10-25 00:41:08,380 cleverhans]     Iteration 800 of 1000: loss=6.11 l2=5.43\n",
      "[DEBUG 2018-10-25 00:41:11,790 cleverhans]     Iteration 900 of 1000: loss=5.95 l2=5.43\n",
      "[DEBUG 2018-10-25 00:41:15,154 cleverhans]   Successfully generated adversarial examples on 1000 of 1000 instances.\n",
      "[DEBUG 2018-10-25 00:41:15,155 cleverhans]    Mean successful distortion: 2.305\n",
      "[DEBUG 2018-10-25 00:41:15,157 cleverhans]   Binary search step 9 of 10\n",
      "[DEBUG 2018-10-25 00:41:15,174 cleverhans]     Iteration 0 of 1000: loss=27.5 l2=0\n",
      "[DEBUG 2018-10-25 00:41:18,539 cleverhans]     Iteration 100 of 1000: loss=9.91 l2=6.29\n",
      "[DEBUG 2018-10-25 00:41:21,846 cleverhans]     Iteration 200 of 1000: loss=9.07 l2=6.17\n",
      "[DEBUG 2018-10-25 00:41:25,177 cleverhans]     Iteration 300 of 1000: loss=8.04 l2=5.88\n",
      "[DEBUG 2018-10-25 00:41:28,507 cleverhans]     Iteration 400 of 1000: loss=7.31 l2=5.7\n",
      "[DEBUG 2018-10-25 00:41:31,846 cleverhans]     Iteration 500 of 1000: loss=6.84 l2=5.61\n",
      "[DEBUG 2018-10-25 00:41:35,182 cleverhans]     Iteration 600 of 1000: loss=6.5 l2=5.58\n",
      "[DEBUG 2018-10-25 00:41:38,531 cleverhans]     Iteration 700 of 1000: loss=6.26 l2=5.57\n",
      "[DEBUG 2018-10-25 00:41:41,921 cleverhans]     Iteration 800 of 1000: loss=6.08 l2=5.57\n",
      "[DEBUG 2018-10-25 00:41:45,177 cleverhans]     Iteration 900 of 1000: loss=5.91 l2=5.55\n",
      "[DEBUG 2018-10-25 00:41:48,443 cleverhans]   Successfully generated adversarial examples on 1000 of 1000 instances.\n",
      "[DEBUG 2018-10-25 00:41:48,444 cleverhans]    Mean successful distortion: 2.305\n"
     ]
    }
   ],
   "source": [
    "keras.backend.set_learning_phase(0)\n",
    "set_log_level(logging.DEBUG)\n",
    "\n",
    "# CarliniWagner attack\n",
    "from lib.my_cw import CarliniWagnerL2\n",
    "\n",
    "attack_iterations = 1000\n",
    "cw_params = {'binary_search_steps': 10,\n",
    "             'max_iterations': attack_iterations,\n",
    "             'learning_rate': 0.1,\n",
    "             'batch_size': n_attack,\n",
    "             'initial_const': 1e3,\n",
    "             'y_target': y_target}\n",
    "cw = CarliniWagnerL2(hingenet, sess=sess)\n",
    "adv = cw.generate_np(X_atk, **cw_params)"
   ]
  },
  {
   "cell_type": "code",
   "execution_count": 76,
   "metadata": {},
   "outputs": [
    {
     "name": "stdout",
     "output_type": "stream",
     "text": [
      "1.0489577\n"
     ]
    },
    {
     "data": {
      "image/png": "[encoded data removed]",
      "text/plain": [
       "<Figure size 432x288 with 1 Axes>"
      ]
     },
     "metadata": {
      "needs_background": "light"
     },
     "output_type": "display_data"
    }
   ],
   "source": [
    "dist = np.sqrt(np.sum((X_atk - adv)**2, (1, 2, 3)))\n",
    "plt.hist(dist, bins=10, range=(1, 5))\n",
    "print(np.min(dist))"
   ]
  },
  {
   "cell_type": "code",
   "execution_count": 113,
   "metadata": {},
   "outputs": [
    {
     "name": "stdout",
     "output_type": "stream",
     "text": [
      "0.9812\n"
     ]
    },
    {
     "data": {
      "text/plain": [
       "(0.9812, 2.3021776069641113)"
      ]
     },
     "execution_count": 113,
     "metadata": {},
     "output_type": "execute_result"
    }
   ],
   "source": [
    "from sklearn.svm import LinearSVC\n",
    "\n",
    "svm = LinearSVC(penalty='l2', loss='hinge', C=1e-10)\n",
    "# svm = LinearSVC(penalty='l2', loss='hinge', C=1e-10)\n",
    "svm.fit(X_train_last, np.argmax(y_train, axis=1))\n",
    "print(svm.score(X_test_last, np.argmax(y_test, axis=1)))\n",
    "\n",
    "w = np.swapaxes(svm.coef_, 0, 1)\n",
    "hingenet.model.layers[-1].set_weights([w, svm.intercept_])\n",
    "hingenet.eval_model(sess, (X_test[:, :, :, np.newaxis], np.argmax(y_test, axis=1)))"
   ]
  },
  {
   "cell_type": "code",
   "execution_count": 114,
   "metadata": {},
   "outputs": [],
   "source": [
    "# Least likeley class\n",
    "n_attack = 1000\n",
    "X_atk = X_test[:, :, :, np.newaxis][:n_attack]\n",
    "y_atk = np.argmax(y_test[:n_attack], axis=1)\n",
    "\n",
    "y_pred = hingenet.predict_model(sess, X_atk)\n",
    "y_target = to_categorical(np.argmin(y_pred, axis=1))"
   ]
  },
  {
   "cell_type": "code",
   "execution_count": 115,
   "metadata": {
    "scrolled": true
   },
   "outputs": [
    {
     "name": "stderr",
     "output_type": "stream",
     "text": [
      "/home/research/nn_proof/lib/my_pgd.py:698: UserWarning: Supplied extra keyword arguments that are not used in the graph computation. They have been ignored.\n",
      "  warnings.warn(\"Supplied extra keyword arguments that are not \"\n",
      "[INFO 2018-10-25 01:02:42,567 cleverhans] Constructing new graph for attack ProjectedGradientDescent\n"
     ]
    },
    {
     "name": "stdout",
     "output_type": "stream",
     "text": [
      "(0.723, 2.3024125308990477)\n",
      "5.0168543\n",
      "(0.72, 2.3024120483398436)\n",
      "5.0154023\n",
      "(0.725, 2.302412687301636)\n",
      "5.0101542\n",
      "(0.722, 2.302414213180542)\n",
      "5.010916\n",
      "(0.715, 2.302413173675537)\n",
      "5.0168047\n",
      "(0.716, 2.3024136848449706)\n",
      "5.0125146\n",
      "(0.716, 2.3024140129089354)\n",
      "5.014616\n",
      "(0.715, 2.302415460586548)\n",
      "5.013233\n",
      "(0.715, 2.302413631439209)\n",
      "5.012317\n",
      "(0.716, 2.3024129333496095)\n",
      "5.014382\n",
      "0.822\n",
      "4.913935917717407\n"
     ]
    }
   ],
   "source": [
    "keras.backend.set_learning_phase(0)\n",
    "set_log_level(logging.DEBUG)\n",
    "\n",
    "from lib.my_pgd import ProjectedGradientDescent\n",
    "\n",
    "pgd_params = {'eps': 0.3,\n",
    "              'eps_iter': 0.05,\n",
    "              'clip_min': 0.,\n",
    "              'clip_max': 1.,\n",
    "              'ord': np.inf, \n",
    "              'nb_iter': 10,\n",
    "              'rand_init': True,\n",
    "              'batch_size': 100,\n",
    "              'y_target': y_target}\n",
    "pgd = ProjectedGradientDescent(hingenet, sess=sess)\n",
    "\n",
    "y_tar = np.argmax(y_target, axis=1)\n",
    "best_adv = np.zeros_like(X_atk)\n",
    "best_dist = np.zeros([n_attack]) + 1e5\n",
    "for i in range(10):\n",
    "    adv = pgd.generate_np(X_atk, **pgd_params)\n",
    "    print(hingenet.eval_model(sess, (adv, y_tar)))\n",
    "    dist = np.sqrt(np.sum((adv - X_atk)**2, (1, 2, 3)))\n",
    "    print(np.mean(dist))\n",
    "    pred = hingenet.predict_model(sess, adv)\n",
    "    y_pred = np.argmax(pred, axis=1)\n",
    "    for j in range(n_attack):\n",
    "        if y_pred[j] == y_tar[j] and dist[j] < best_dist[j]:\n",
    "            best_adv[j] = adv[j]\n",
    "            best_dist[j] = dist[j]\n",
    "print(np.mean(best_dist < 1e5))\n",
    "print(np.mean(best_dist[best_dist < 1e5]))"
   ]
  },
  {
   "cell_type": "code",
   "execution_count": 116,
   "metadata": {
    "scrolled": true
   },
   "outputs": [
    {
     "name": "stderr",
     "output_type": "stream",
     "text": [
      "[INFO 2018-10-25 01:02:59,116 cleverhans] Constructing new graph for attack CarliniWagnerL2\n",
      "[DEBUG 2018-10-25 01:02:59,495 cleverhans] Running CWL2 attack on instance 0 of 1000\n",
      "[DEBUG 2018-10-25 01:02:59,624 cleverhans]   Binary search step 0 of 10\n",
      "[DEBUG 2018-10-25 01:02:59,870 cleverhans]     Iteration 0 of 500: loss=0.583 l2=0\n",
      "[DEBUG 2018-10-25 01:03:01,769 cleverhans]     Iteration 50 of 500: loss=0.573 l2=0.00968\n",
      "[DEBUG 2018-10-25 01:03:03,650 cleverhans]     Iteration 100 of 500: loss=0.573 l2=0.00944\n",
      "[DEBUG 2018-10-25 01:03:05,502 cleverhans]     Iteration 150 of 500: loss=0.573 l2=0.00944\n",
      "[DEBUG 2018-10-25 01:03:05,503 cleverhans]     Failed to make progress; stop early\n",
      "[DEBUG 2018-10-25 01:03:05,513 cleverhans]   Successfully generated adversarial examples on 0 of 1000 instances.\n",
      "/usr/local/lib/python3.5/dist-packages/numpy/core/fromnumeric.py:2920: RuntimeWarning: Mean of empty slice.\n",
      "  out=out, **kwargs)\n",
      "/usr/local/lib/python3.5/dist-packages/numpy/core/_methods.py:85: RuntimeWarning: invalid value encountered in double_scalars\n",
      "  ret = ret.dtype.type(ret / rcount)\n",
      "[DEBUG 2018-10-25 01:03:05,514 cleverhans]    Mean successful distortion: nan\n",
      "[DEBUG 2018-10-25 01:03:05,516 cleverhans]   Binary search step 1 of 10\n",
      "[DEBUG 2018-10-25 01:03:05,534 cleverhans]     Iteration 0 of 500: loss=5.83 l2=0\n",
      "[DEBUG 2018-10-25 01:03:07,398 cleverhans]     Iteration 50 of 500: loss=4.81 l2=1.13\n",
      "[DEBUG 2018-10-25 01:03:09,261 cleverhans]     Iteration 100 of 500: loss=4.8 l2=1.14\n",
      "[DEBUG 2018-10-25 01:03:11,135 cleverhans]     Iteration 150 of 500: loss=4.8 l2=1.14\n",
      "[DEBUG 2018-10-25 01:03:11,136 cleverhans]     Failed to make progress; stop early\n",
      "[DEBUG 2018-10-25 01:03:11,149 cleverhans]   Successfully generated adversarial examples on 1 of 1000 instances.\n",
      "[DEBUG 2018-10-25 01:03:11,150 cleverhans]    Mean successful distortion: 1.644\n",
      "[DEBUG 2018-10-25 01:03:11,151 cleverhans]   Binary search step 2 of 10\n",
      "[DEBUG 2018-10-25 01:03:11,170 cleverhans]     Iteration 0 of 500: loss=58.2 l2=0\n",
      "[DEBUG 2018-10-25 01:03:13,015 cleverhans]     Iteration 50 of 500: loss=13.9 l2=10.9\n",
      "[DEBUG 2018-10-25 01:03:14,734 cleverhans]     Iteration 100 of 500: loss=12 l2=9.59\n",
      "[DEBUG 2018-10-25 01:03:16,407 cleverhans]     Iteration 150 of 500: loss=10.8 l2=9.44\n",
      "[DEBUG 2018-10-25 01:03:18,026 cleverhans]     Iteration 200 of 500: loss=9.74 l2=8.85\n",
      "[DEBUG 2018-10-25 01:03:19,628 cleverhans]     Iteration 250 of 500: loss=8.88 l2=8.23\n",
      "[DEBUG 2018-10-25 01:03:21,227 cleverhans]     Iteration 300 of 500: loss=8.24 l2=7.73\n",
      "[DEBUG 2018-10-25 01:03:22,774 cleverhans]     Iteration 350 of 500: loss=7.78 l2=7.34\n",
      "[DEBUG 2018-10-25 01:03:24,268 cleverhans]     Iteration 400 of 500: loss=7.41 l2=7.04\n",
      "[DEBUG 2018-10-25 01:03:25,722 cleverhans]     Iteration 450 of 500: loss=7.16 l2=6.82\n",
      "[DEBUG 2018-10-25 01:03:27,166 cleverhans]   Successfully generated adversarial examples on 862 of 1000 instances.\n",
      "[DEBUG 2018-10-25 01:03:27,167 cleverhans]    Mean successful distortion: 2.456\n",
      "[DEBUG 2018-10-25 01:03:27,169 cleverhans]   Binary search step 3 of 10\n",
      "[DEBUG 2018-10-25 01:03:27,189 cleverhans]     Iteration 0 of 500: loss=106 l2=0\n",
      "[DEBUG 2018-10-25 01:03:28,828 cleverhans]     Iteration 50 of 500: loss=16.7 l2=11.2\n",
      "[DEBUG 2018-10-25 01:03:30,391 cleverhans]     Iteration 100 of 500: loss=12.5 l2=10.1\n",
      "[DEBUG 2018-10-25 01:03:31,932 cleverhans]     Iteration 150 of 500: loss=11.3 l2=9.6\n",
      "[DEBUG 2018-10-25 01:03:33,432 cleverhans]     Iteration 200 of 500: loss=10.3 l2=9.01\n",
      "[DEBUG 2018-10-25 01:03:34,911 cleverhans]     Iteration 250 of 500: loss=9.37 l2=8.38\n",
      "[DEBUG 2018-10-25 01:03:36,394 cleverhans]     Iteration 300 of 500: loss=8.69 l2=7.89\n",
      "[DEBUG 2018-10-25 01:03:37,888 cleverhans]     Iteration 350 of 500: loss=8.17 l2=7.51\n",
      "[DEBUG 2018-10-25 01:03:39,456 cleverhans]     Iteration 400 of 500: loss=7.82 l2=7.25\n",
      "[DEBUG 2018-10-25 01:03:41,524 cleverhans]     Iteration 450 of 500: loss=7.53 l2=7.03\n",
      "[DEBUG 2018-10-25 01:03:43,581 cleverhans]   Successfully generated adversarial examples on 1000 of 1000 instances.\n",
      "[DEBUG 2018-10-25 01:03:43,583 cleverhans]    Mean successful distortion: 2.565\n",
      "[DEBUG 2018-10-25 01:03:43,585 cleverhans]   Binary search step 4 of 10\n",
      "[DEBUG 2018-10-25 01:03:43,611 cleverhans]     Iteration 0 of 500: loss=65.8 l2=0\n",
      "[DEBUG 2018-10-25 01:03:45,906 cleverhans]     Iteration 50 of 500: loss=14.3 l2=9.76\n",
      "[DEBUG 2018-10-25 01:03:48,025 cleverhans]     Iteration 100 of 500: loss=11.6 l2=8.83\n",
      "[DEBUG 2018-10-25 01:03:50,088 cleverhans]     Iteration 150 of 500: loss=10.7 l2=8.45\n",
      "[DEBUG 2018-10-25 01:03:52,094 cleverhans]     Iteration 200 of 500: loss=9.8 l2=8.04\n",
      "[DEBUG 2018-10-25 01:03:54,001 cleverhans]     Iteration 250 of 500: loss=9.01 l2=7.62\n",
      "[DEBUG 2018-10-25 01:03:55,984 cleverhans]     Iteration 300 of 500: loss=8.39 l2=7.28\n",
      "[DEBUG 2018-10-25 01:03:58,115 cleverhans]     Iteration 350 of 500: loss=7.89 l2=7.01\n",
      "[DEBUG 2018-10-25 01:04:00,239 cleverhans]     Iteration 400 of 500: loss=7.55 l2=6.8\n",
      "[DEBUG 2018-10-25 01:04:02,343 cleverhans]     Iteration 450 of 500: loss=7.23 l2=6.61\n",
      "[DEBUG 2018-10-25 01:04:04,180 cleverhans]   Successfully generated adversarial examples on 1000 of 1000 instances.\n",
      "[DEBUG 2018-10-25 01:04:04,181 cleverhans]    Mean successful distortion: 2.528\n",
      "[DEBUG 2018-10-25 01:04:04,183 cleverhans]   Binary search step 5 of 10\n",
      "[DEBUG 2018-10-25 01:04:04,206 cleverhans]     Iteration 0 of 500: loss=47.6 l2=0\n",
      "[DEBUG 2018-10-25 01:04:06,314 cleverhans]     Iteration 50 of 500: loss=13 l2=8.78\n",
      "[DEBUG 2018-10-25 01:04:08,327 cleverhans]     Iteration 100 of 500: loss=11.3 l2=8.09\n",
      "[DEBUG 2018-10-25 01:04:10,447 cleverhans]     Iteration 150 of 500: loss=10.4 l2=7.91\n",
      "[DEBUG 2018-10-25 01:04:12,646 cleverhans]     Iteration 200 of 500: loss=9.63 l2=7.63\n",
      "[DEBUG 2018-10-25 01:04:14,755 cleverhans]     Iteration 250 of 500: loss=8.88 l2=7.27\n",
      "[DEBUG 2018-10-25 01:04:16,736 cleverhans]     Iteration 300 of 500: loss=8.27 l2=6.99\n",
      "[DEBUG 2018-10-25 01:04:18,748 cleverhans]     Iteration 350 of 500: loss=7.81 l2=6.78\n",
      "[DEBUG 2018-10-25 01:04:20,771 cleverhans]     Iteration 400 of 500: loss=7.44 l2=6.59\n",
      "[DEBUG 2018-10-25 01:04:22,822 cleverhans]     Iteration 450 of 500: loss=7.13 l2=6.45\n",
      "[DEBUG 2018-10-25 01:04:24,963 cleverhans]   Successfully generated adversarial examples on 1000 of 1000 instances.\n",
      "[DEBUG 2018-10-25 01:04:24,964 cleverhans]    Mean successful distortion: 2.511\n",
      "[DEBUG 2018-10-25 01:04:24,965 cleverhans]   Binary search step 6 of 10\n",
      "[DEBUG 2018-10-25 01:04:24,984 cleverhans]     Iteration 0 of 500: loss=39.4 l2=0\n",
      "[DEBUG 2018-10-25 01:04:27,279 cleverhans]     Iteration 50 of 500: loss=12.2 l2=8.14\n",
      "[DEBUG 2018-10-25 01:04:29,428 cleverhans]     Iteration 100 of 500: loss=11 l2=7.68\n",
      "[DEBUG 2018-10-25 01:04:31,518 cleverhans]     Iteration 150 of 500: loss=10.3 l2=7.62\n",
      "[DEBUG 2018-10-25 01:04:33,726 cleverhans]     Iteration 200 of 500: loss=9.59 l2=7.4\n",
      "[DEBUG 2018-10-25 01:04:35,820 cleverhans]     Iteration 250 of 500: loss=8.88 l2=7.1\n",
      "[DEBUG 2018-10-25 01:04:37,902 cleverhans]     Iteration 300 of 500: loss=8.25 l2=6.86\n",
      "[DEBUG 2018-10-25 01:04:39,955 cleverhans]     Iteration 350 of 500: loss=7.79 l2=6.7\n",
      "[DEBUG 2018-10-25 01:04:42,088 cleverhans]     Iteration 400 of 500: loss=7.41 l2=6.54\n",
      "[DEBUG 2018-10-25 01:04:44,235 cleverhans]     Iteration 450 of 500: loss=7.1 l2=6.39\n",
      "[DEBUG 2018-10-25 01:04:46,340 cleverhans]   Successfully generated adversarial examples on 1000 of 1000 instances.\n",
      "[DEBUG 2018-10-25 01:04:46,341 cleverhans]    Mean successful distortion: 2.5\n",
      "[DEBUG 2018-10-25 01:04:46,342 cleverhans]   Binary search step 7 of 10\n",
      "[DEBUG 2018-10-25 01:04:46,372 cleverhans]     Iteration 0 of 500: loss=35.6 l2=0\n",
      "[DEBUG 2018-10-25 01:04:48,594 cleverhans]     Iteration 50 of 500: loss=11.9 l2=7.81\n",
      "[DEBUG 2018-10-25 01:04:50,812 cleverhans]     Iteration 100 of 500: loss=10.8 l2=7.42\n",
      "[DEBUG 2018-10-25 01:04:52,972 cleverhans]     Iteration 150 of 500: loss=10.3 l2=7.4\n",
      "[DEBUG 2018-10-25 01:04:55,116 cleverhans]     Iteration 200 of 500: loss=9.59 l2=7.23\n",
      "[DEBUG 2018-10-25 01:04:57,255 cleverhans]     Iteration 250 of 500: loss=8.88 l2=6.98\n",
      "[DEBUG 2018-10-25 01:04:59,361 cleverhans]     Iteration 300 of 500: loss=8.28 l2=6.76\n",
      "[DEBUG 2018-10-25 01:05:01,496 cleverhans]     Iteration 350 of 500: loss=7.8 l2=6.63\n"
     ]
    },
    {
     "name": "stderr",
     "output_type": "stream",
     "text": [
      "[DEBUG 2018-10-25 01:05:03,735 cleverhans]     Iteration 400 of 500: loss=7.42 l2=6.51\n",
      "[DEBUG 2018-10-25 01:05:05,913 cleverhans]     Iteration 450 of 500: loss=7.09 l2=6.39\n",
      "[DEBUG 2018-10-25 01:05:08,105 cleverhans]   Successfully generated adversarial examples on 1000 of 1000 instances.\n",
      "[DEBUG 2018-10-25 01:05:08,105 cleverhans]    Mean successful distortion: 2.495\n",
      "[DEBUG 2018-10-25 01:05:08,106 cleverhans]   Binary search step 8 of 10\n",
      "[DEBUG 2018-10-25 01:05:08,139 cleverhans]     Iteration 0 of 500: loss=34.5 l2=0\n",
      "[DEBUG 2018-10-25 01:05:10,234 cleverhans]     Iteration 50 of 500: loss=11.7 l2=7.71\n",
      "[DEBUG 2018-10-25 01:05:12,336 cleverhans]     Iteration 100 of 500: loss=10.8 l2=7.33\n",
      "[DEBUG 2018-10-25 01:05:14,487 cleverhans]     Iteration 150 of 500: loss=10.2 l2=7.31\n",
      "[DEBUG 2018-10-25 01:05:16,713 cleverhans]     Iteration 200 of 500: loss=9.58 l2=7.16\n",
      "[DEBUG 2018-10-25 01:05:18,914 cleverhans]     Iteration 250 of 500: loss=8.88 l2=6.92\n",
      "[DEBUG 2018-10-25 01:05:21,116 cleverhans]     Iteration 300 of 500: loss=8.29 l2=6.73\n",
      "[DEBUG 2018-10-25 01:05:23,274 cleverhans]     Iteration 350 of 500: loss=7.81 l2=6.6\n",
      "[DEBUG 2018-10-25 01:05:25,388 cleverhans]     Iteration 400 of 500: loss=7.42 l2=6.49\n",
      "[DEBUG 2018-10-25 01:05:27,541 cleverhans]     Iteration 450 of 500: loss=7.1 l2=6.44\n",
      "[DEBUG 2018-10-25 01:05:29,752 cleverhans]   Successfully generated adversarial examples on 1000 of 1000 instances.\n",
      "[DEBUG 2018-10-25 01:05:29,753 cleverhans]    Mean successful distortion: 2.493\n",
      "[DEBUG 2018-10-25 01:05:29,756 cleverhans]   Binary search step 9 of 10\n",
      "[DEBUG 2018-10-25 01:05:29,782 cleverhans]     Iteration 0 of 500: loss=35.7 l2=0\n",
      "[DEBUG 2018-10-25 01:05:32,052 cleverhans]     Iteration 50 of 500: loss=11.9 l2=7.92\n",
      "[DEBUG 2018-10-25 01:05:34,192 cleverhans]     Iteration 100 of 500: loss=10.9 l2=7.54\n",
      "[DEBUG 2018-10-25 01:05:36,351 cleverhans]     Iteration 150 of 500: loss=10.3 l2=7.51\n",
      "[DEBUG 2018-10-25 01:05:38,447 cleverhans]     Iteration 200 of 500: loss=9.6 l2=7.35\n",
      "[DEBUG 2018-10-25 01:05:40,546 cleverhans]     Iteration 250 of 500: loss=8.89 l2=7.12\n",
      "[DEBUG 2018-10-25 01:05:42,654 cleverhans]     Iteration 300 of 500: loss=8.28 l2=6.93\n",
      "[DEBUG 2018-10-25 01:05:44,779 cleverhans]     Iteration 350 of 500: loss=7.78 l2=6.8\n",
      "[DEBUG 2018-10-25 01:05:46,875 cleverhans]     Iteration 400 of 500: loss=7.38 l2=6.69\n",
      "[DEBUG 2018-10-25 01:05:49,030 cleverhans]     Iteration 450 of 500: loss=7.03 l2=6.6\n",
      "[DEBUG 2018-10-25 01:05:51,086 cleverhans]   Successfully generated adversarial examples on 1000 of 1000 instances.\n",
      "[DEBUG 2018-10-25 01:05:51,087 cleverhans]    Mean successful distortion: 2.493\n"
     ]
    }
   ],
   "source": [
    "keras.backend.set_learning_phase(0)\n",
    "set_log_level(logging.DEBUG)\n",
    "\n",
    "# CarliniWagner attack\n",
    "from lib.my_cw import CarliniWagnerL2\n",
    "\n",
    "attack_iterations = 500\n",
    "cw_params = {'binary_search_steps': 10,\n",
    "             'max_iterations': attack_iterations,\n",
    "             'learning_rate': 0.1,\n",
    "             'batch_size': n_attack,\n",
    "             'initial_const': 1e3,\n",
    "             'y_target': y_target}\n",
    "cw = CarliniWagnerL2(hingenet, sess=sess)\n",
    "adv = cw.generate_np(X_atk, **cw_params)"
   ]
  },
  {
   "cell_type": "code",
   "execution_count": null,
   "metadata": {},
   "outputs": [],
   "source": []
  },
  {
   "cell_type": "code",
   "execution_count": null,
   "metadata": {},
   "outputs": [],
   "source": []
  },
  {
   "cell_type": "code",
   "execution_count": 48,
   "metadata": {},
   "outputs": [
    {
     "data": {
      "text/plain": [
       "SVC(C=1e-07, cache_size=200, class_weight=None, coef0=0.0,\n",
       "  decision_function_shape='ovr', degree=3, gamma='auto', kernel='linear',\n",
       "  max_iter=-1, probability=False, random_state=None, shrinking=True,\n",
       "  tol=0.001, verbose=False)"
      ]
     },
     "execution_count": 48,
     "metadata": {},
     "output_type": "execute_result"
    }
   ],
   "source": [
    "from sklearn.svm import SVC\n",
    "svm = SVC(C=1e-7, kernel='linear')\n",
    "svm.fit(X_train_last, np.argmax(y_train, axis=1))"
   ]
  },
  {
   "cell_type": "code",
   "execution_count": 49,
   "metadata": {},
   "outputs": [
    {
     "data": {
      "text/plain": [
       "0.1135"
      ]
     },
     "execution_count": 49,
     "metadata": {},
     "output_type": "execute_result"
    }
   ],
   "source": [
    "svm.score(X_test_last, np.argmax(y_test, axis=1))"
   ]
  },
  {
   "cell_type": "code",
   "execution_count": 46,
   "metadata": {},
   "outputs": [
    {
     "data": {
      "text/plain": [
       "SVC(C=100.0, cache_size=200, class_weight=None, coef0=0.0,\n",
       "  decision_function_shape='ovr', degree=3, gamma='auto', kernel='linear',\n",
       "  max_iter=-1, probability=False, random_state=None, shrinking=True,\n",
       "  tol=0.001, verbose=False)"
      ]
     },
     "execution_count": 46,
     "metadata": {},
     "output_type": "execute_result"
    }
   ],
   "source": [
    "from sklearn.svm import SVC\n",
    "svm = SVC(C=1e2, kernel='linear')\n",
    "svm.fit(X_train_last, np.argmax(y_train, axis=1))"
   ]
  },
  {
   "cell_type": "code",
   "execution_count": 47,
   "metadata": {},
   "outputs": [
    {
     "data": {
      "text/plain": [
       "0.1981"
      ]
     },
     "execution_count": 47,
     "metadata": {},
     "output_type": "execute_result"
    }
   ],
   "source": [
    "svm.score(X_test_last, np.argmax(y_test, axis=1))"
   ]
  },
  {
   "cell_type": "code",
   "execution_count": 50,
   "metadata": {},
   "outputs": [
    {
     "data": {
      "text/plain": [
       "SVC(C=10000000.0, cache_size=200, class_weight=None, coef0=0.0,\n",
       "  decision_function_shape='ovr', degree=3, gamma='auto', kernel='linear',\n",
       "  max_iter=-1, probability=False, random_state=None, shrinking=True,\n",
       "  tol=0.001, verbose=False)"
      ]
     },
     "execution_count": 50,
     "metadata": {},
     "output_type": "execute_result"
    }
   ],
   "source": [
    "from sklearn.svm import SVC\n",
    "svm = SVC(C=1e7, kernel='linear')\n",
    "svm.fit(X_train_last, np.argmax(y_train, axis=1))"
   ]
  },
  {
   "cell_type": "code",
   "execution_count": 51,
   "metadata": {},
   "outputs": [
    {
     "data": {
      "text/plain": [
       "0.1981"
      ]
     },
     "execution_count": 51,
     "metadata": {},
     "output_type": "execute_result"
    }
   ],
   "source": [
    "svm.score(X_test_last, np.argmax(y_test, axis=1))"
   ]
  },
  {
   "cell_type": "code",
   "execution_count": null,
   "metadata": {},
   "outputs": [],
   "source": []
  }
 ],
 "metadata": {
  "kernelspec": {
   "display_name": "Python 3",
   "language": "python",
   "name": "python3"
  },
  "language_info": {
   "codemirror_mode": {
    "name": "ipython",
    "version": 3
   },
   "file_extension": ".py",
   "mimetype": "text/x-python",
   "name": "python",
   "nbconvert_exporter": "python",
   "pygments_lexer": "ipython3",
   "version": "3.5.2"
  }
 },
 "nbformat": 4,
 "nbformat_minor": 2
}
