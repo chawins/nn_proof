{
 "cells": [
  {
   "cell_type": "code",
   "execution_count": 1,
   "metadata": {},
   "outputs": [
    {
     "name": "stderr",
     "output_type": "stream",
     "text": [
      "Using TensorFlow backend.\n"
     ]
    }
   ],
   "source": [
    "%matplotlib inline\n",
    "\n",
    "%load_ext autoreload\n",
    "%autoreload 2\n",
    "\n",
    "from matplotlib.gridspec import GridSpec\n",
    "import matplotlib.pyplot as plt\n",
    "import matplotlib\n",
    "from skimage.transform import resize\n",
    "from imageio import imread, imwrite\n",
    "import pandas as pd\n",
    "import glob\n",
    "import pickle\n",
    "\n",
    "from stn.conv_model import conv_model\n",
    "from stn.conv_model import conv_model_no_color_adjust\n",
    "from sklearn.utils import resample\n",
    "from lib.utils import load_gtsrb\n",
    "from keras.metrics import sparse_categorical_accuracy\n",
    "\n",
    "from parameters import *\n",
    "from small_net import *"
   ]
  },
  {
   "cell_type": "code",
   "execution_count": 2,
   "metadata": {},
   "outputs": [],
   "source": [
    "import os\n",
    "os.environ[\"CUDA_DEVICE_ORDER\"] = \"PCI_BUS_ID\"\n",
    "os.environ[\"CUDA_VISIBLE_DEVICES\"] = \"0\""
   ]
  },
  {
   "cell_type": "code",
   "execution_count": 3,
   "metadata": {},
   "outputs": [],
   "source": [
    "signnames = pd.read_csv(DATA_DIR + 'signnames.csv')\n",
    "X_train, y_train, X_val, y_val, X_test, y_test = load_gtsrb()"
   ]
  },
  {
   "cell_type": "code",
   "execution_count": 4,
   "metadata": {},
   "outputs": [],
   "source": [
    "config = tf.ConfigProto()\n",
    "config.gpu_options.allow_growth = True\n",
    "sess = tf.Session(config=config)\n",
    "from keras.backend.tensorflow_backend import set_session\n",
    "set_session(sess)"
   ]
  },
  {
   "cell_type": "code",
   "execution_count": 5,
   "metadata": {},
   "outputs": [],
   "source": [
    "model = conv_model_no_color_adjust()\n",
    "# model = conv_model()\n",
    "model.load_weights(\"./keras_weights/stn_v5.hdf5\")\n",
    "\n",
    "get_stn_output = K.function([model.layers[0].input, K.learning_phase()],\n",
    "                            [model.layers[1].output])\n",
    "stn_weight = model.layers[1].get_weights()"
   ]
  },
  {
   "cell_type": "code",
   "execution_count": 6,
   "metadata": {},
   "outputs": [],
   "source": [
    "def get_patch(X, pos):\n",
    "    \"\"\"\n",
    "    Crop all samples in <X> to make a set of patches <X_cropped>\n",
    "    at the same position <pos>\n",
    "    \"\"\"\n",
    "    \n",
    "    top, bot, left, right = pos\n",
    "    X_cropped = np.zeros((X.shape[0], bot - top, right - left, X.shape[3]))\n",
    "    for i, x in enumerate(X):\n",
    "        X_cropped[i] = np.copy(x[top:bot, left:right, :])\n",
    "    return X_cropped\n",
    "\n",
    "# Define cropping positions\n",
    "pos_2 = (7, 23, 5, 17)\n",
    "pos_0 = (7, 24, 15, 27) # Good for class 0 - 5\n",
    "pos_3 = (7, 24, 6, 17)\n",
    "\n",
    "pos_S = (7, 24, 0, 11)\n",
    "pos_T = (7, 23, 8, 17)\n",
    "pos_O = (6, 23, 13, 24)\n",
    "pos_P = (6, 23, 22, 32)\n",
    "\n",
    "pos_y11 = (11, 27, 9, 21)"
   ]
  },
  {
   "cell_type": "code",
   "execution_count": 7,
   "metadata": {},
   "outputs": [],
   "source": [
    "X_S = X_train[np.where(y_train == 14)]\n",
    "X_stn = get_stn_output([X_S, 0])[0]*0.5 + 0.5\n",
    "S = get_patch(X_stn, pos_S)\n",
    "O = get_patch(X_stn, pos_O)"
   ]
  },
  {
   "cell_type": "code",
   "execution_count": 8,
   "metadata": {},
   "outputs": [],
   "source": [
    "X_stop = X_test[np.where(y_test == 14)]\n",
    "X_stn = get_stn_output([X_stop, 0])[0]*0.5 + 0.5\n",
    "S_test = get_patch(X_stn, pos_S)\n",
    "O_test = get_patch(X_stn, pos_O)"
   ]
  },
  {
   "cell_type": "markdown",
   "metadata": {},
   "source": [
    "## 1. Distance to mean in RGB"
   ]
  },
  {
   "cell_type": "code",
   "execution_count": 10,
   "metadata": {
    "scrolled": true
   },
   "outputs": [
    {
     "name": "stdout",
     "output_type": "stream",
     "text": [
      "Mean of RGB image\n"
     ]
    },
    {
     "data": {
      "image/png": "[encoded data removed]",
      "text/plain": [
       "<Figure size 432x288 with 1 Axes>"
      ]
     },
     "metadata": {
      "needs_background": "light"
     },
     "output_type": "display_data"
    },
    {
     "name": "stdout",
     "output_type": "stream",
     "text": [
      "Sample closest to the mean\n"
     ]
    },
    {
     "data": {
      "image/png": "[encoded data removed]",
      "text/plain": [
       "<Figure size 432x288 with 1 Axes>"
      ]
     },
     "metadata": {
      "needs_background": "light"
     },
     "output_type": "display_data"
    },
    {
     "name": "stdout",
     "output_type": "stream",
     "text": [
      "L2 dist from mean: 1.0824\n"
     ]
    },
    {
     "data": {
      "image/png": "[encoded data removed]",
      "text/plain": [
       "<Figure size 432x288 with 1 Axes>"
      ]
     },
     "metadata": {
      "needs_background": "light"
     },
     "output_type": "display_data"
    }
   ],
   "source": [
    "# Try transformaing 'S'\n",
    "print(\"Mean of RGB image\")\n",
    "mean = np.mean(S, axis=0)\n",
    "plt.imshow(mean)\n",
    "plt.show()\n",
    "    \n",
    "# Sample that's closest to the mean\n",
    "dist = np.sqrt(np.sum(np.square(S - mean).reshape(S.shape[0], -1), axis=1))\n",
    "ind_center = np.argmin(dist)\n",
    "print(\"Sample closest to the mean\")\n",
    "x_mean = S[ind_center]\n",
    "plt.imshow(x_mean)\n",
    "plt.show()\n",
    "print(\"L2 dist from mean: {:.4f}\".format(dist[ind_center]))\n",
    "plt.hist(dist, bins=50)\n",
    "plt.show()"
   ]
  },
  {
   "cell_type": "code",
   "execution_count": 13,
   "metadata": {},
   "outputs": [
    {
     "data": {
      "image/png": "[encoded data removed]",
      "text/plain": [
       "<Figure size 432x288 with 1 Axes>"
      ]
     },
     "metadata": {
      "needs_background": "light"
     },
     "output_type": "display_data"
    }
   ],
   "source": [
    "dist_S = np.sum((S_test - mean)**2, (1, 2, 3))\n",
    "dist_O = np.sum((O_test - mean)**2, (1, 2, 3))\n",
    "plt.hist(dist_S, bins=50)\n",
    "plt.hist(dist_O, bins=50)\n",
    "plt.show()"
   ]
  },
  {
   "cell_type": "markdown",
   "metadata": {},
   "source": [
    "## 2. Distance to mean in HSV\n",
    "\n",
    "https://en.wikipedia.org/wiki/Mean_of_circular_quantities"
   ]
  },
  {
   "cell_type": "code",
   "execution_count": 12,
   "metadata": {},
   "outputs": [],
   "source": [
    "def hsv_dist(image_a, image_b):\n",
    "    \n",
    "    out = np.zeros_like(image_a)\n",
    "    dist1 = np.square(image_a - image_b)\n",
    "    out[:, :, 1:] = dist1[:, :, 1:]\n",
    "    \n",
    "    # Hue distance\n",
    "    dist2 = np.square(image_a + 1 - image_b)\n",
    "    dist3 = np.square(image_a - image_b - 1)\n",
    "    dist = np.minimum(dist1, dist2)\n",
    "    out[:, :, 0] = np.minimum(dist, dist3)[:, :, 0]\n",
    "    return out\n",
    "\n",
    "def hsv_mean(images):\n",
    "    \n",
    "    from scipy.stats import circmean\n",
    "    out = np.zeros_like(images[0])\n",
    "    out[:, :, 1:] = np.mean(images[:, :, :, 1:], axis=0)\n",
    "    out[:, :, 0] = circmean(images[:, :, :, 0], high=1, low=0, axis=0)\n",
    "    return out\n",
    "\n",
    "def hsv_std(images):\n",
    "    \n",
    "    from scipy.stats import circstd\n",
    "    out = np.zeros_like(images[0])\n",
    "    out[:, :, 1:] = np.std(images[:, :, :, 1:], axis=0)\n",
    "    out[:, :, 0] = circstd(images[:, :, :, 0], high=1, low=0, axis=0)\n",
    "    return out"
   ]
  },
  {
   "cell_type": "code",
   "execution_count": 56,
   "metadata": {},
   "outputs": [
    {
     "name": "stdout",
     "output_type": "stream",
     "text": [
      "Mean of HSV image\n"
     ]
    },
    {
     "data": {
      "image/png": "[encoded data removed]",
      "text/plain": [
       "<Figure size 432x288 with 1 Axes>"
      ]
     },
     "metadata": {
      "needs_background": "light"
     },
     "output_type": "display_data"
    }
   ],
   "source": [
    "print(\"Mean of HSV image\")\n",
    "S_hsv = matplotlib.colors.rgb_to_hsv(S)\n",
    "mean = hsv_mean(S_hsv)\n",
    "plt.imshow(matplotlib.colors.hsv_to_rgb(mean))\n",
    "plt.show()"
   ]
  },
  {
   "cell_type": "code",
   "execution_count": 57,
   "metadata": {},
   "outputs": [
    {
     "data": {
      "image/png": "[encoded data removed]",
      "text/plain": [
       "<Figure size 432x288 with 1 Axes>"
      ]
     },
     "metadata": {
      "needs_background": "light"
     },
     "output_type": "display_data"
    }
   ],
   "source": [
    "dist = np.array([hsv_dist(x, mean) for x in matplotlib.colors.rgb_to_hsv(S_test)])\n",
    "dist_S = np.sum(dist, (1, 2, 3))\n",
    "dist = np.array([hsv_dist(x, mean) for x in matplotlib.colors.rgb_to_hsv(O_test)])\n",
    "dist_O = np.sum(dist, (1, 2, 3))\n",
    "plt.hist(dist_S, bins=50)\n",
    "plt.hist(dist_O, bins=50)\n",
    "plt.show()"
   ]
  },
  {
   "cell_type": "markdown",
   "metadata": {},
   "source": [
    "## 3. Distance to mean in Hue"
   ]
  },
  {
   "cell_type": "code",
   "execution_count": 58,
   "metadata": {},
   "outputs": [
    {
     "data": {
      "image/png": "[encoded data removed]",
      "text/plain": [
       "<Figure size 432x288 with 1 Axes>"
      ]
     },
     "metadata": {
      "needs_background": "light"
     },
     "output_type": "display_data"
    }
   ],
   "source": [
    "dist = np.array([hsv_dist(x, mean) for x in matplotlib.colors.rgb_to_hsv(S_test)])\n",
    "dist_S = np.sum(dist[:, :, :, 0], (1, 2))\n",
    "dist = np.array([hsv_dist(x, mean) for x in matplotlib.colors.rgb_to_hsv(O_test)])\n",
    "dist_O = np.sum(dist[:, :, :, 0], (1, 2))\n",
    "plt.hist(dist_S, bins=50)\n",
    "plt.hist(dist_O, bins=50)\n",
    "plt.show()"
   ]
  },
  {
   "cell_type": "markdown",
   "metadata": {},
   "source": [
    "## 4. NN to mean"
   ]
  },
  {
   "cell_type": "code",
   "execution_count": 34,
   "metadata": {},
   "outputs": [
    {
     "name": "stdout",
     "output_type": "stream",
     "text": [
      "Mean of HSV image\n"
     ]
    },
    {
     "data": {
      "image/png": "[encoded data removed]",
      "text/plain": [
       "<Figure size 432x288 with 1 Axes>"
      ]
     },
     "metadata": {
      "needs_background": "light"
     },
     "output_type": "display_data"
    }
   ],
   "source": [
    "print(\"Mean of HSV image\")\n",
    "O_hsv = matplotlib.colors.rgb_to_hsv(O)\n",
    "mean = hsv_mean(O_hsv)\n",
    "plt.imshow(matplotlib.colors.hsv_to_rgb(mean))\n",
    "plt.show()"
   ]
  },
  {
   "cell_type": "code",
   "execution_count": 59,
   "metadata": {},
   "outputs": [
    {
     "name": "stdout",
     "output_type": "stream",
     "text": [
      "269\n",
      "264\n"
     ]
    }
   ],
   "source": [
    "S_hsv = matplotlib.colors.rgb_to_hsv(S)\n",
    "mean_S = hsv_mean(S_hsv)\n",
    "O_hsv = matplotlib.colors.rgb_to_hsv(O)\n",
    "mean_O = hsv_mean(O_hsv)\n",
    "\n",
    "dist = np.array([hsv_dist(x, mean_S) for x in matplotlib.colors.rgb_to_hsv(S_test)])\n",
    "dist_SS = np.sum(dist, (1, 2, 3))\n",
    "dist = np.array([hsv_dist(x, mean_O) for x in matplotlib.colors.rgb_to_hsv(S_test)])\n",
    "dist_SO = np.sum(dist, (1, 2, 3))\n",
    "dist = np.array([hsv_dist(x, mean_O) for x in matplotlib.colors.rgb_to_hsv(O_test)])\n",
    "dist_OO = np.sum(dist, (1, 2, 3))\n",
    "dist = np.array([hsv_dist(x, mean_S) for x in matplotlib.colors.rgb_to_hsv(O_test)])\n",
    "dist_OS = np.sum(dist, (1, 2, 3))\n",
    "\n",
    "print(np.sum(dist_SS < dist_SO))\n",
    "print(np.sum(dist_OO < dist_OS))"
   ]
  },
  {
   "cell_type": "code",
   "execution_count": 63,
   "metadata": {},
   "outputs": [
    {
     "data": {
      "image/png": "[encoded data removed]",
      "text/plain": [
       "<Figure size 432x288 with 1 Axes>"
      ]
     },
     "metadata": {
      "needs_background": "light"
     },
     "output_type": "display_data"
    }
   ],
   "source": [
    "diff = dist_SS - dist_SO\n",
    "plt.hist(diff, bins=50)\n",
    "diff = dist_OO - dist_OS\n",
    "plt.hist(diff, bins=50)\n",
    "plt.show()"
   ]
  },
  {
   "cell_type": "markdown",
   "metadata": {},
   "source": [
    "## 5. NN to mean with HSV and binarization"
   ]
  },
  {
   "cell_type": "markdown",
   "metadata": {},
   "source": [
    "8-bit info"
   ]
  },
  {
   "cell_type": "code",
   "execution_count": 65,
   "metadata": {},
   "outputs": [
    {
     "name": "stdout",
     "output_type": "stream",
     "text": [
      "269\n",
      "264\n"
     ]
    },
    {
     "data": {
      "image/png": "[encoded data removed]",
      "text/plain": [
       "<Figure size 432x288 with 1 Axes>"
      ]
     },
     "metadata": {
      "needs_background": "light"
     },
     "output_type": "display_data"
    }
   ],
   "source": [
    "S_bin = (matplotlib.colors.rgb_to_hsv(S_test) * 255).astype(np.int32) / 255.\n",
    "O_bin = (matplotlib.colors.rgb_to_hsv(O_test) * 255).astype(np.int32) / 255.\n",
    "mean_S_bin = (mean_S * 255).astype(np.int32) / 255.\n",
    "mean_O_bin = (mean_O * 255).astype(np.int32) / 255.\n",
    "\n",
    "dist = np.array([hsv_dist(x, mean_S_bin) for x in S_bin])\n",
    "dist_SS = np.sum(dist, (1, 2, 3))\n",
    "dist = np.array([hsv_dist(x, mean_O_bin) for x in S_bin])\n",
    "dist_SO = np.sum(dist, (1, 2, 3))\n",
    "dist = np.array([hsv_dist(x, mean_O_bin) for x in O_bin])\n",
    "dist_OO = np.sum(dist, (1, 2, 3))\n",
    "dist = np.array([hsv_dist(x, mean_S_bin) for x in O_bin])\n",
    "dist_OS = np.sum(dist, (1, 2, 3))\n",
    "\n",
    "print(np.sum(dist_SS < dist_SO))\n",
    "print(np.sum(dist_OO < dist_OS))\n",
    "\n",
    "diff = dist_SS - dist_SO\n",
    "plt.hist(diff, bins=50)\n",
    "diff = dist_OO - dist_OS\n",
    "plt.hist(diff, bins=50)\n",
    "plt.show()"
   ]
  },
  {
   "cell_type": "markdown",
   "metadata": {},
   "source": [
    "Binary"
   ]
  },
  {
   "cell_type": "code",
   "execution_count": 66,
   "metadata": {},
   "outputs": [
    {
     "name": "stdout",
     "output_type": "stream",
     "text": [
      "129\n",
      "228\n"
     ]
    },
    {
     "data": {
      "image/png": "[encoded data removed]",
      "text/plain": [
       "<Figure size 432x288 with 1 Axes>"
      ]
     },
     "metadata": {
      "needs_background": "light"
     },
     "output_type": "display_data"
    }
   ],
   "source": [
    "S_bin = (matplotlib.colors.rgb_to_hsv(S_test) > 0.5).astype(np.float32)\n",
    "O_bin = (matplotlib.colors.rgb_to_hsv(O_test) > 0.5).astype(np.float32)\n",
    "mean_S_bin = (mean_S > 0.5).astype(np.float32)\n",
    "mean_O_bin = (mean_O > 0.5).astype(np.float32)\n",
    "\n",
    "dist = np.array([hsv_dist(x, mean_S_bin) for x in S_bin])\n",
    "dist_SS = np.sum(dist, (1, 2, 3))\n",
    "dist = np.array([hsv_dist(x, mean_O_bin) for x in S_bin])\n",
    "dist_SO = np.sum(dist, (1, 2, 3))\n",
    "dist = np.array([hsv_dist(x, mean_O_bin) for x in O_bin])\n",
    "dist_OO = np.sum(dist, (1, 2, 3))\n",
    "dist = np.array([hsv_dist(x, mean_S_bin) for x in O_bin])\n",
    "dist_OS = np.sum(dist, (1, 2, 3))\n",
    "\n",
    "print(np.sum(dist_SS < dist_SO))\n",
    "print(np.sum(dist_OO < dist_OS))\n",
    "\n",
    "diff = dist_SS - dist_SO\n",
    "plt.hist(diff, bins=50)\n",
    "diff = dist_OO - dist_OS\n",
    "plt.hist(diff, bins=50)\n",
    "plt.show()"
   ]
  },
  {
   "cell_type": "markdown",
   "metadata": {},
   "source": [
    "## Experiment with more features"
   ]
  },
  {
   "cell_type": "code",
   "execution_count": 10,
   "metadata": {},
   "outputs": [
    {
     "name": "stderr",
     "output_type": "stream",
     "text": [
      "/usr/local/lib/python3.5/dist-packages/skimage/transform/_warps.py:105: UserWarning: The default mode, 'constant', will be changed to 'reflect' in skimage 0.15.\n",
      "  warn(\"The default mode, 'constant', will be changed to 'reflect' in \"\n",
      "/usr/local/lib/python3.5/dist-packages/skimage/transform/_warps.py:110: UserWarning: Anti-aliasing will be enabled by default in skimage 0.15 to avoid aliasing artifacts when down-sampling images.\n",
      "  warn(\"Anti-aliasing will be enabled by default in skimage 0.15 to \"\n"
     ]
    }
   ],
   "source": [
    "from skimage.transform import resize\n",
    "\n",
    "size = (16, 16)\n",
    "pos = [pos_S, pos_T, pos_O, pos_P]\n",
    "\n",
    "X_stop = X_train[np.where(y_train == 14)]\n",
    "X_stn = get_stn_output([X_stop, 0])[0]*0.5 + 0.5\n",
    "feat_train = [np.array([resize(x, size, order=1) for x in get_patch(X_stn, p)]) for p in pos]\n",
    "X_stop = X_test[np.where(y_test == 14)]\n",
    "X_stn = get_stn_output([X_stop, 0])[0]*0.5 + 0.5\n",
    "feat_test = [np.array([resize(x, size, order=1) for x in get_patch(X_stn, p)]) for p in pos]\n",
    "\n",
    "feat_train = [matplotlib.colors.rgb_to_hsv(f) for f in feat_train]\n",
    "feat_test = [matplotlib.colors.rgb_to_hsv(f) for f in feat_test]"
   ]
  },
  {
   "cell_type": "code",
   "execution_count": 115,
   "metadata": {},
   "outputs": [
    {
     "data": {
      "text/plain": [
       "<matplotlib.image.AxesImage at 0x7f8d6c91d9e8>"
      ]
     },
     "execution_count": 115,
     "metadata": {},
     "output_type": "execute_result"
    },
    {
     "data": {
      "image/png": "[encoded data removed]",
      "text/plain": [
       "<Figure size 432x288 with 1 Axes>"
      ]
     },
     "metadata": {
      "needs_background": "light"
     },
     "output_type": "display_data"
    }
   ],
   "source": [
    "plt.imshow(matplotlib.colors.hsv_to_rgb(feat_train[2][80]))"
   ]
  },
  {
   "cell_type": "code",
   "execution_count": 116,
   "metadata": {},
   "outputs": [
    {
     "data": {
      "text/plain": [
       "<matplotlib.image.AxesImage at 0x7f8d6c9ed198>"
      ]
     },
     "execution_count": 116,
     "metadata": {},
     "output_type": "execute_result"
    },
    {
     "data": {
      "image/png": "[encoded data removed]",
      "text/plain": [
       "<Figure size 432x288 with 1 Axes>"
      ]
     },
     "metadata": {
      "needs_background": "light"
     },
     "output_type": "display_data"
    }
   ],
   "source": [
    "mean_hsv = [hsv_mean(f) for f in feat_train]\n",
    "\n",
    "plt.imshow(matplotlib.colors.hsv_to_rgb(mean_hsv[3]))"
   ]
  },
  {
   "cell_type": "code",
   "execution_count": 110,
   "metadata": {},
   "outputs": [],
   "source": [
    "mean_hsv = [(mean * 255).astype(np.int32) / 255. for mean in mean_hsv]\n",
    "feat_train = [(f * 255).astype(np.int32) / 255. for f in feat_train]\n",
    "feat_test = [(f * 255).astype(np.int32) / 255. for f in feat_test]"
   ]
  },
  {
   "cell_type": "code",
   "execution_count": 117,
   "metadata": {},
   "outputs": [
    {
     "name": "stdout",
     "output_type": "stream",
     "text": [
      "580 110 0 0\n",
      "36 572 80 2\n",
      "6 59 624 1\n",
      "1 19 13 657\n"
     ]
    }
   ],
   "source": [
    "dist_all = []\n",
    "for feat in feat_train:\n",
    "    dist_feat = []\n",
    "    for x in feat:\n",
    "        dist = np.array([np.sum(hsv_dist(x, mean)) for mean in mean_hsv])\n",
    "        dist_feat.append(dist)\n",
    "    dist_all.append(np.array(dist_feat))\n",
    "    \n",
    "for feat in range(4):\n",
    "    f_close = np.argmin(dist_all[feat], axis=1)\n",
    "#     print(np.sum(f_close == feat))\n",
    "    print(np.sum(f_close == 0), np.sum(f_close == 1), np.sum(f_close == 2), np.sum(f_close == 3))"
   ]
  },
  {
   "cell_type": "code",
   "execution_count": 118,
   "metadata": {},
   "outputs": [
    {
     "name": "stdout",
     "output_type": "stream",
     "text": [
      "235 35 0 0\n",
      "31 207 26 6\n",
      "6 41 219 4\n",
      "12 5 2 251\n"
     ]
    }
   ],
   "source": [
    "dist_all = []\n",
    "for feat in feat_test:\n",
    "    dist_feat = []\n",
    "    for x in feat:\n",
    "        dist = np.array([np.sum(hsv_dist(x, mean)) for mean in mean_hsv])\n",
    "        dist_feat.append(dist)\n",
    "    dist_all.append(np.array(dist_feat))\n",
    "\n",
    "for feat in range(4):\n",
    "    f_close = np.argmin(dist_all[feat], axis=1)\n",
    "#     print(np.sum(f_close == feat))\n",
    "    print(np.sum(f_close == 0), np.sum(f_close == 1), np.sum(f_close == 2), np.sum(f_close == 3))"
   ]
  },
  {
   "cell_type": "markdown",
   "metadata": {},
   "source": [
    "## 6. Hue Threshold"
   ]
  },
  {
   "cell_type": "markdown",
   "metadata": {},
   "source": [
    "Manually set"
   ]
  },
  {
   "cell_type": "code",
   "execution_count": 32,
   "metadata": {},
   "outputs": [
    {
     "data": {
      "image/png": "[encoded data removed]",
      "text/plain": [
       "<Figure size 432x288 with 1 Axes>"
      ]
     },
     "metadata": {
      "needs_background": "light"
     },
     "output_type": "display_data"
    }
   ],
   "source": [
    "thres = [0, 0.65, 0.5]\n",
    "width = [0.1, 1 - thres[1], 1 - thres[2]]\n",
    "\n",
    "S_hsv = matplotlib.colors.rgb_to_hsv(S)\n",
    "mean_S = hsv_mean(S_hsv)\n",
    "thres_hsv = np.zeros_like(mean_S) + thres\n",
    "dist = hsv_dist(mean_S, thres_hsv)\n",
    "diff = (np.zeros_like(mean_S) + width)**2\n",
    "out = np.sum(dist < diff, axis=2) // 3\n",
    "\n",
    "plt.imshow(out, cmap='gray')\n",
    "plt.show()"
   ]
  },
  {
   "cell_type": "code",
   "execution_count": 33,
   "metadata": {
    "scrolled": true
   },
   "outputs": [
    {
     "data": {
      "image/png": "[encoded data removed]",
      "text/plain": [
       "<Figure size 432x288 with 1 Axes>"
      ]
     },
     "metadata": {
      "needs_background": "light"
     },
     "output_type": "display_data"
    },
    {
     "data": {
      "image/png": "[encoded data removed]",
      "text/plain": [
       "<Figure size 432x288 with 1 Axes>"
      ]
     },
     "metadata": {
      "needs_background": "light"
     },
     "output_type": "display_data"
    },
    {
     "data": {
      "image/png": "[encoded data removed]",
      "text/plain": [
       "<Figure size 432x288 with 1 Axes>"
      ]
     },
     "metadata": {
      "needs_background": "light"
     },
     "output_type": "display_data"
    },
    {
     "data": {
      "image/png": "[encoded data removed]",
      "text/plain": [
       "<Figure size 432x288 with 1 Axes>"
      ]
     },
     "metadata": {
      "needs_background": "light"
     },
     "output_type": "display_data"
    },
    {
     "data": {
      "image/png": "[encoded data removed]",
      "text/plain": [
       "<Figure size 432x288 with 1 Axes>"
      ]
     },
     "metadata": {
      "needs_background": "light"
     },
     "output_type": "display_data"
    },
    {
     "data": {
      "image/png": "[encoded data removed]",
      "text/plain": [
       "<Figure size 432x288 with 1 Axes>"
      ]
     },
     "metadata": {
      "needs_background": "light"
     },
     "output_type": "display_data"
    }
   ],
   "source": [
    "for i in [0, 50, 100, 150, 200, 250]:\n",
    "    dist = np.sqrt(hsv_dist(S_hsv[i], thres_hsv))\n",
    "    diff = np.zeros_like(S_hsv[i]) + width\n",
    "    out = np.sum(dist < diff, axis=2) // 3\n",
    "    plt.imshow(out, cmap='gray')\n",
    "    plt.show()"
   ]
  },
  {
   "cell_type": "code",
   "execution_count": 34,
   "metadata": {},
   "outputs": [
    {
     "data": {
      "image/png": "[encoded data removed]",
      "text/plain": [
       "<Figure size 432x288 with 1 Axes>"
      ]
     },
     "metadata": {
      "needs_background": "light"
     },
     "output_type": "display_data"
    }
   ],
   "source": [
    "O_hsv = matplotlib.colors.rgb_to_hsv(O)\n",
    "mean_O = hsv_mean(O_hsv)\n",
    "thres_hsv = np.zeros_like(mean_O) + thres\n",
    "dist = hsv_dist(mean_O, thres_hsv)\n",
    "diff = (np.zeros_like(mean_O) + width)**2\n",
    "out = np.sum(dist < diff, axis=2) // 3\n",
    "\n",
    "plt.imshow(out, cmap='gray')\n",
    "plt.show()"
   ]
  },
  {
   "cell_type": "code",
   "execution_count": 35,
   "metadata": {
    "scrolled": true
   },
   "outputs": [
    {
     "data": {
      "image/png": "[encoded data removed]",
      "text/plain": [
       "<Figure size 432x288 with 1 Axes>"
      ]
     },
     "metadata": {
      "needs_background": "light"
     },
     "output_type": "display_data"
    },
    {
     "data": {
      "image/png": "[encoded data removed]",
      "text/plain": [
       "<Figure size 432x288 with 1 Axes>"
      ]
     },
     "metadata": {
      "needs_background": "light"
     },
     "output_type": "display_data"
    },
    {
     "data": {
      "image/png": "[encoded data removed]",
      "text/plain": [
       "<Figure size 432x288 with 1 Axes>"
      ]
     },
     "metadata": {
      "needs_background": "light"
     },
     "output_type": "display_data"
    },
    {
     "data": {
      "image/png": "[encoded data removed]",
      "text/plain": [
       "<Figure size 432x288 with 1 Axes>"
      ]
     },
     "metadata": {
      "needs_background": "light"
     },
     "output_type": "display_data"
    },
    {
     "data": {
      "image/png": "[encoded data removed]",
      "text/plain": [
       "<Figure size 432x288 with 1 Axes>"
      ]
     },
     "metadata": {
      "needs_background": "light"
     },
     "output_type": "display_data"
    },
    {
     "data": {
      "image/png": "[encoded data removed]",
      "text/plain": [
       "<Figure size 432x288 with 1 Axes>"
      ]
     },
     "metadata": {
      "needs_background": "light"
     },
     "output_type": "display_data"
    }
   ],
   "source": [
    "for i in [0, 50, 100, 150, 200, 250]:\n",
    "    dist = np.sqrt(hsv_dist(O_hsv[i], thres_hsv))\n",
    "    diff = np.zeros_like(O_hsv[i]) + width\n",
    "    out = np.sum(dist < diff, axis=2) // 3\n",
    "    plt.imshow(out, cmap='gray')\n",
    "    plt.show()"
   ]
  },
  {
   "cell_type": "markdown",
   "metadata": {},
   "source": [
    "Try to adjust mean first in RGB"
   ]
  },
  {
   "cell_type": "code",
   "execution_count": 15,
   "metadata": {},
   "outputs": [],
   "source": [
    "mean = np.mean(S)\n",
    "S_center = np.array([x - np.mean(x) + mean for x in S])"
   ]
  },
  {
   "cell_type": "code",
   "execution_count": 27,
   "metadata": {},
   "outputs": [
    {
     "data": {
      "image/png": "[encoded data removed]",
      "text/plain": [
       "<Figure size 432x288 with 1 Axes>"
      ]
     },
     "metadata": {
      "needs_background": "light"
     },
     "output_type": "display_data"
    }
   ],
   "source": [
    "thres = [0, 0.65, 0.5]\n",
    "width = [0.1, 1 - thres[1], 1 - thres[2]]\n",
    "\n",
    "S_hsv = matplotlib.colors.rgb_to_hsv(S_center)\n",
    "mean_S = hsv_mean(S_hsv)\n",
    "thres_hsv = np.zeros_like(mean_S) + thres\n",
    "dist = hsv_dist(mean_S, thres_hsv)\n",
    "diff = (np.zeros_like(mean_S) + width)**2\n",
    "out = np.sum(dist < diff, axis=2) // 3\n",
    "\n",
    "plt.imshow(out, cmap='gray')\n",
    "plt.show()"
   ]
  },
  {
   "cell_type": "code",
   "execution_count": 28,
   "metadata": {
    "scrolled": true
   },
   "outputs": [
    {
     "data": {
      "image/png": "[encoded data removed]",
      "text/plain": [
       "<Figure size 432x288 with 1 Axes>"
      ]
     },
     "metadata": {
      "needs_background": "light"
     },
     "output_type": "display_data"
    },
    {
     "data": {
      "image/png": "[encoded data removed]",
      "text/plain": [
       "<Figure size 432x288 with 1 Axes>"
      ]
     },
     "metadata": {
      "needs_background": "light"
     },
     "output_type": "display_data"
    },
    {
     "data": {
      "image/png": "[encoded data removed]",
      "text/plain": [
       "<Figure size 432x288 with 1 Axes>"
      ]
     },
     "metadata": {
      "needs_background": "light"
     },
     "output_type": "display_data"
    },
    {
     "data": {
      "image/png": "[encoded data removed]",
      "text/plain": [
       "<Figure size 432x288 with 1 Axes>"
      ]
     },
     "metadata": {
      "needs_background": "light"
     },
     "output_type": "display_data"
    },
    {
     "data": {
      "image/png": "[encoded data removed]",
      "text/plain": [
       "<Figure size 432x288 with 1 Axes>"
      ]
     },
     "metadata": {
      "needs_background": "light"
     },
     "output_type": "display_data"
    },
    {
     "data": {
      "image/png": "[encoded data removed]",
      "text/plain": [
       "<Figure size 432x288 with 1 Axes>"
      ]
     },
     "metadata": {
      "needs_background": "light"
     },
     "output_type": "display_data"
    }
   ],
   "source": [
    "for i in [0, 50, 100, 150, 200, 250]:\n",
    "    dist = np.sqrt(hsv_dist(S_hsv[i], thres_hsv))\n",
    "    diff = np.zeros_like(S_hsv[i]) + width\n",
    "    out = np.sum(dist < diff, axis=2) // 3\n",
    "    plt.imshow(out, cmap='gray')\n",
    "    plt.show()"
   ]
  },
  {
   "cell_type": "markdown",
   "metadata": {},
   "source": [
    "## Neural Network Approach  \n",
    "\n",
    "Use neural network confidence score as output to another classifier which takes N real numbers (N is number of features per class) and outputs a final confidence for how likely the proposed label is correct. Probably need some confidence score calibration.\n",
    "\n",
    "Problem:  \n",
    "- how do we label \"bad samples\" e.g. not really visible S on a stop sign?"
   ]
  },
  {
   "cell_type": "markdown",
   "metadata": {},
   "source": [
    "## Nearest Neighbor\n",
    "\n",
    "We evaluate nearest neighbors of S by measuring distance from S to S and from non-S to S. For non-S, we pick O as a representative as it should be very close to S (use O as a bound).  \n",
    "\n",
    "Problem: how do we justify if it's robust?  \n",
    "In other words, just because it works for distinguishing some features like S from O, it doesn't prvide any guarantee of its robustness or how \"good\" it is to other digits."
   ]
  },
  {
   "cell_type": "code",
   "execution_count": 9,
   "metadata": {},
   "outputs": [],
   "source": [
    "dist_SS = np.zeros([len(S_test), len(S)])\n",
    "dist_OS = np.zeros([len(O_test), len(S)])\n",
    "\n",
    "for i, s in enumerate(S_test):\n",
    "    dist_SS[i] = np.sum((S - s)**2, axis=(1, 2, 3))\n",
    "for i, o in enumerate(O_test):\n",
    "    dist_OS[i] = np.sum((S - o)**2, axis=(1, 2, 3))"
   ]
  },
  {
   "cell_type": "code",
   "execution_count": 29,
   "metadata": {
    "scrolled": true
   },
   "outputs": [
    {
     "name": "stdout",
     "output_type": "stream",
     "text": [
      "Average\n"
     ]
    },
    {
     "data": {
      "image/png": "[encoded data removed]",
      "text/plain": [
       "<Figure size 432x288 with 1 Axes>"
      ]
     },
     "metadata": {
      "needs_background": "light"
     },
     "output_type": "display_data"
    },
    {
     "name": "stdout",
     "output_type": "stream",
     "text": [
      "Minimum\n"
     ]
    },
    {
     "data": {
      "image/png": "[encoded data removed]",
      "text/plain": [
       "<Figure size 432x288 with 1 Axes>"
      ]
     },
     "metadata": {
      "needs_background": "light"
     },
     "output_type": "display_data"
    },
    {
     "name": "stdout",
     "output_type": "stream",
     "text": [
      "Median\n"
     ]
    },
    {
     "data": {
      "image/png": "[encoded data removed]",
      "text/plain": [
       "<Figure size 432x288 with 1 Axes>"
      ]
     },
     "metadata": {
      "needs_background": "light"
     },
     "output_type": "display_data"
    }
   ],
   "source": [
    "print(\"Average\")\n",
    "plt.hist(np.mean(dist_SS, axis=1), bins=20)\n",
    "plt.hist(np.mean(dist_OS, axis=1), bins=20)\n",
    "plt.show()\n",
    "\n",
    "print(\"Minimum\")\n",
    "plt.hist(np.min(dist_SS, axis=1), bins=20)\n",
    "plt.hist(np.min(dist_OS, axis=1), bins=20)\n",
    "plt.show()\n",
    "\n",
    "print(\"Median\")\n",
    "plt.hist(np.median(dist_SS, axis=1), bins=20)\n",
    "plt.hist(np.median(dist_OS, axis=1), bins=20)\n",
    "plt.show()"
   ]
  },
  {
   "cell_type": "code",
   "execution_count": 46,
   "metadata": {},
   "outputs": [
    {
     "name": "stdout",
     "output_type": "stream",
     "text": [
      "Average of smallest k\n"
     ]
    },
    {
     "data": {
      "image/png": "[encoded data removed]",
      "text/plain": [
       "<Figure size 432x288 with 1 Axes>"
      ]
     },
     "metadata": {
      "needs_background": "light"
     },
     "output_type": "display_data"
    }
   ],
   "source": [
    "print(\"Average of smallest k\")\n",
    "plt.hist(np.mean(np.sort(dist_SS)[:, :20], axis=1), bins=20)\n",
    "plt.hist(np.mean(np.sort(dist_OS)[:, :20], axis=1), bins=20)\n",
    "plt.show()"
   ]
  },
  {
   "cell_type": "markdown",
   "metadata": {},
   "source": [
    "Looking at distance distribution simply does not work. This is different from normal kNN.  \n",
    "kNN, in a way, considers \"relative distance.\"  \n",
    "\n",
    "We cannot implement kNN naively because we want to determine not only which feature an input is closest to but also how close. But unfortunately, distance (l2) is a meaningless metric. Eg. X is closer to S than to O, but that does not mean X is S.\n",
    "\n",
    "Arguably, we can still implement something more like kNN, but now we need to combine all possible features so we can say with more confident. BUT then again l2 is not a good metric so it's pointless."
   ]
  },
  {
   "cell_type": "code",
   "execution_count": null,
   "metadata": {},
   "outputs": [],
   "source": []
  }
 ],
 "metadata": {
  "kernelspec": {
   "display_name": "Python 3",
   "language": "python",
   "name": "python3"
  },
  "language_info": {
   "codemirror_mode": {
    "name": "ipython",
    "version": 3
   },
   "file_extension": ".py",
   "mimetype": "text/x-python",
   "name": "python",
   "nbconvert_exporter": "python",
   "pygments_lexer": "ipython3",
   "version": "3.5.2"
  }
 },
 "nbformat": 4,
 "nbformat_minor": 2
}
